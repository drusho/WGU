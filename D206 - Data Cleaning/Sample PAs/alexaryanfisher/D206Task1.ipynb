{
 "cells": [
  {
   "cell_type": "code",
   "execution_count": 1,
   "id": "f3cae9e8",
   "metadata": {},
   "outputs": [],
   "source": [
    "#install libraries and packages to use with environment for analysis\n",
    "\n",
    "import pandas as pd # used to provide tools to explore, clean, and analyze data.\n",
    "import numpy as np # used to work with arrays\n",
    "import matplotlib.pyplot as plt # used for visualizations\n",
    "%matplotlib inline\n",
    "from sklearn.decomposition import PCA # used for PCA computations\n",
    "import seaborn as sns # used for visualizations\n",
    "import missingno as msno # used to visualizations for missing data, NA, Nulls"
   ]
  },
  {
   "cell_type": "code",
   "execution_count": 2,
   "id": "c258cd5e",
   "metadata": {},
   "outputs": [
    {
     "data": {
      "text/html": [
       "<div>\n",
       "<style scoped>\n",
       "    .dataframe tbody tr th:only-of-type {\n",
       "        vertical-align: middle;\n",
       "    }\n",
       "\n",
       "    .dataframe tbody tr th {\n",
       "        vertical-align: top;\n",
       "    }\n",
       "\n",
       "    .dataframe thead th {\n",
       "        text-align: right;\n",
       "    }\n",
       "</style>\n",
       "<table border=\"1\" class=\"dataframe\">\n",
       "  <thead>\n",
       "    <tr style=\"text-align: right;\">\n",
       "      <th></th>\n",
       "      <th>Unnamed: 0</th>\n",
       "      <th>CaseOrder</th>\n",
       "      <th>Customer_id</th>\n",
       "      <th>Interaction</th>\n",
       "      <th>City</th>\n",
       "      <th>State</th>\n",
       "      <th>County</th>\n",
       "      <th>Zip</th>\n",
       "      <th>Lat</th>\n",
       "      <th>Lng</th>\n",
       "      <th>Population</th>\n",
       "      <th>Area</th>\n",
       "      <th>Timezone</th>\n",
       "      <th>Job</th>\n",
       "      <th>Children</th>\n",
       "      <th>Age</th>\n",
       "      <th>Education</th>\n",
       "      <th>Employment</th>\n",
       "      <th>Income</th>\n",
       "      <th>Marital</th>\n",
       "      <th>Gender</th>\n",
       "      <th>Churn</th>\n",
       "      <th>Outage_sec_perweek</th>\n",
       "      <th>Email</th>\n",
       "      <th>Contacts</th>\n",
       "      <th>Yearly_equip_failure</th>\n",
       "      <th>Techie</th>\n",
       "      <th>Contract</th>\n",
       "      <th>Port_modem</th>\n",
       "      <th>Tablet</th>\n",
       "      <th>InternetService</th>\n",
       "      <th>Phone</th>\n",
       "      <th>Multiple</th>\n",
       "      <th>OnlineSecurity</th>\n",
       "      <th>OnlineBackup</th>\n",
       "      <th>DeviceProtection</th>\n",
       "      <th>TechSupport</th>\n",
       "      <th>StreamingTV</th>\n",
       "      <th>StreamingMovies</th>\n",
       "      <th>PaperlessBilling</th>\n",
       "      <th>PaymentMethod</th>\n",
       "      <th>Tenure</th>\n",
       "      <th>MonthlyCharge</th>\n",
       "      <th>Bandwidth_GB_Year</th>\n",
       "      <th>item1</th>\n",
       "      <th>item2</th>\n",
       "      <th>item3</th>\n",
       "      <th>item4</th>\n",
       "      <th>item5</th>\n",
       "      <th>item6</th>\n",
       "      <th>item7</th>\n",
       "      <th>item8</th>\n",
       "    </tr>\n",
       "  </thead>\n",
       "  <tbody>\n",
       "    <tr>\n",
       "      <th>0</th>\n",
       "      <td>1</td>\n",
       "      <td>1</td>\n",
       "      <td>K409198</td>\n",
       "      <td>aa90260b-4141-4a24-8e36-b04ce1f4f77b</td>\n",
       "      <td>Point Baker</td>\n",
       "      <td>AK</td>\n",
       "      <td>Prince of Wales-Hyder</td>\n",
       "      <td>99927</td>\n",
       "      <td>56.25100</td>\n",
       "      <td>-133.37571</td>\n",
       "      <td>38</td>\n",
       "      <td>Urban</td>\n",
       "      <td>America/Sitka</td>\n",
       "      <td>Environmental health practitioner</td>\n",
       "      <td>NaN</td>\n",
       "      <td>68.0</td>\n",
       "      <td>Master's Degree</td>\n",
       "      <td>Part Time</td>\n",
       "      <td>28561.99</td>\n",
       "      <td>Widowed</td>\n",
       "      <td>Male</td>\n",
       "      <td>No</td>\n",
       "      <td>6.972566</td>\n",
       "      <td>10</td>\n",
       "      <td>0</td>\n",
       "      <td>1</td>\n",
       "      <td>No</td>\n",
       "      <td>One year</td>\n",
       "      <td>Yes</td>\n",
       "      <td>Yes</td>\n",
       "      <td>Fiber Optic</td>\n",
       "      <td>Yes</td>\n",
       "      <td>No</td>\n",
       "      <td>Yes</td>\n",
       "      <td>Yes</td>\n",
       "      <td>No</td>\n",
       "      <td>No</td>\n",
       "      <td>No</td>\n",
       "      <td>Yes</td>\n",
       "      <td>Yes</td>\n",
       "      <td>Credit Card (automatic)</td>\n",
       "      <td>6.795513</td>\n",
       "      <td>171.449762</td>\n",
       "      <td>904.536110</td>\n",
       "      <td>5</td>\n",
       "      <td>5</td>\n",
       "      <td>5</td>\n",
       "      <td>3</td>\n",
       "      <td>4</td>\n",
       "      <td>4</td>\n",
       "      <td>3</td>\n",
       "      <td>4</td>\n",
       "    </tr>\n",
       "    <tr>\n",
       "      <th>1</th>\n",
       "      <td>2</td>\n",
       "      <td>2</td>\n",
       "      <td>S120509</td>\n",
       "      <td>fb76459f-c047-4a9d-8af9-e0f7d4ac2524</td>\n",
       "      <td>West Branch</td>\n",
       "      <td>MI</td>\n",
       "      <td>Ogemaw</td>\n",
       "      <td>48661</td>\n",
       "      <td>44.32893</td>\n",
       "      <td>-84.24080</td>\n",
       "      <td>10446</td>\n",
       "      <td>Urban</td>\n",
       "      <td>America/Detroit</td>\n",
       "      <td>Programmer, multimedia</td>\n",
       "      <td>1.0</td>\n",
       "      <td>27.0</td>\n",
       "      <td>Regular High School Diploma</td>\n",
       "      <td>Retired</td>\n",
       "      <td>21704.77</td>\n",
       "      <td>Married</td>\n",
       "      <td>Female</td>\n",
       "      <td>Yes</td>\n",
       "      <td>12.014541</td>\n",
       "      <td>12</td>\n",
       "      <td>0</td>\n",
       "      <td>1</td>\n",
       "      <td>Yes</td>\n",
       "      <td>Month-to-month</td>\n",
       "      <td>No</td>\n",
       "      <td>Yes</td>\n",
       "      <td>Fiber Optic</td>\n",
       "      <td>Yes</td>\n",
       "      <td>Yes</td>\n",
       "      <td>Yes</td>\n",
       "      <td>No</td>\n",
       "      <td>No</td>\n",
       "      <td>No</td>\n",
       "      <td>Yes</td>\n",
       "      <td>Yes</td>\n",
       "      <td>Yes</td>\n",
       "      <td>Bank Transfer(automatic)</td>\n",
       "      <td>1.156681</td>\n",
       "      <td>242.948015</td>\n",
       "      <td>800.982766</td>\n",
       "      <td>3</td>\n",
       "      <td>4</td>\n",
       "      <td>3</td>\n",
       "      <td>3</td>\n",
       "      <td>4</td>\n",
       "      <td>3</td>\n",
       "      <td>4</td>\n",
       "      <td>4</td>\n",
       "    </tr>\n",
       "    <tr>\n",
       "      <th>2</th>\n",
       "      <td>3</td>\n",
       "      <td>3</td>\n",
       "      <td>K191035</td>\n",
       "      <td>344d114c-3736-4be5-98f7-c72c281e2d35</td>\n",
       "      <td>Yamhill</td>\n",
       "      <td>OR</td>\n",
       "      <td>Yamhill</td>\n",
       "      <td>97148</td>\n",
       "      <td>45.35589</td>\n",
       "      <td>-123.24657</td>\n",
       "      <td>3735</td>\n",
       "      <td>Urban</td>\n",
       "      <td>America/Los_Angeles</td>\n",
       "      <td>Chief Financial Officer</td>\n",
       "      <td>4.0</td>\n",
       "      <td>50.0</td>\n",
       "      <td>Regular High School Diploma</td>\n",
       "      <td>Student</td>\n",
       "      <td>NaN</td>\n",
       "      <td>Widowed</td>\n",
       "      <td>Female</td>\n",
       "      <td>No</td>\n",
       "      <td>10.245616</td>\n",
       "      <td>9</td>\n",
       "      <td>0</td>\n",
       "      <td>1</td>\n",
       "      <td>Yes</td>\n",
       "      <td>Two Year</td>\n",
       "      <td>Yes</td>\n",
       "      <td>No</td>\n",
       "      <td>DSL</td>\n",
       "      <td>Yes</td>\n",
       "      <td>Yes</td>\n",
       "      <td>No</td>\n",
       "      <td>No</td>\n",
       "      <td>No</td>\n",
       "      <td>No</td>\n",
       "      <td>No</td>\n",
       "      <td>Yes</td>\n",
       "      <td>Yes</td>\n",
       "      <td>Credit Card (automatic)</td>\n",
       "      <td>15.754144</td>\n",
       "      <td>159.440398</td>\n",
       "      <td>2054.706961</td>\n",
       "      <td>4</td>\n",
       "      <td>4</td>\n",
       "      <td>2</td>\n",
       "      <td>4</td>\n",
       "      <td>4</td>\n",
       "      <td>3</td>\n",
       "      <td>3</td>\n",
       "      <td>3</td>\n",
       "    </tr>\n",
       "    <tr>\n",
       "      <th>3</th>\n",
       "      <td>4</td>\n",
       "      <td>4</td>\n",
       "      <td>D90850</td>\n",
       "      <td>abfa2b40-2d43-4994-b15a-989b8c79e311</td>\n",
       "      <td>Del Mar</td>\n",
       "      <td>CA</td>\n",
       "      <td>San Diego</td>\n",
       "      <td>92014</td>\n",
       "      <td>32.96687</td>\n",
       "      <td>-117.24798</td>\n",
       "      <td>13863</td>\n",
       "      <td>Suburban</td>\n",
       "      <td>America/Los_Angeles</td>\n",
       "      <td>Solicitor</td>\n",
       "      <td>1.0</td>\n",
       "      <td>48.0</td>\n",
       "      <td>Doctorate Degree</td>\n",
       "      <td>Retired</td>\n",
       "      <td>18925.23</td>\n",
       "      <td>Married</td>\n",
       "      <td>Male</td>\n",
       "      <td>No</td>\n",
       "      <td>15.206193</td>\n",
       "      <td>15</td>\n",
       "      <td>2</td>\n",
       "      <td>0</td>\n",
       "      <td>Yes</td>\n",
       "      <td>Two Year</td>\n",
       "      <td>No</td>\n",
       "      <td>No</td>\n",
       "      <td>DSL</td>\n",
       "      <td>Yes</td>\n",
       "      <td>No</td>\n",
       "      <td>Yes</td>\n",
       "      <td>No</td>\n",
       "      <td>No</td>\n",
       "      <td>No</td>\n",
       "      <td>Yes</td>\n",
       "      <td>No</td>\n",
       "      <td>Yes</td>\n",
       "      <td>Mailed Check</td>\n",
       "      <td>17.087227</td>\n",
       "      <td>120.249493</td>\n",
       "      <td>2164.579412</td>\n",
       "      <td>4</td>\n",
       "      <td>4</td>\n",
       "      <td>4</td>\n",
       "      <td>2</td>\n",
       "      <td>5</td>\n",
       "      <td>4</td>\n",
       "      <td>3</td>\n",
       "      <td>3</td>\n",
       "    </tr>\n",
       "    <tr>\n",
       "      <th>4</th>\n",
       "      <td>5</td>\n",
       "      <td>5</td>\n",
       "      <td>K662701</td>\n",
       "      <td>68a861fd-0d20-4e51-a587-8a90407ee574</td>\n",
       "      <td>Needville</td>\n",
       "      <td>TX</td>\n",
       "      <td>Fort Bend</td>\n",
       "      <td>77461</td>\n",
       "      <td>29.38012</td>\n",
       "      <td>-95.80673</td>\n",
       "      <td>11352</td>\n",
       "      <td>Suburban</td>\n",
       "      <td>America/Chicago</td>\n",
       "      <td>Medical illustrator</td>\n",
       "      <td>0.0</td>\n",
       "      <td>83.0</td>\n",
       "      <td>Master's Degree</td>\n",
       "      <td>Student</td>\n",
       "      <td>40074.19</td>\n",
       "      <td>Separated</td>\n",
       "      <td>Male</td>\n",
       "      <td>Yes</td>\n",
       "      <td>8.960316</td>\n",
       "      <td>16</td>\n",
       "      <td>2</td>\n",
       "      <td>1</td>\n",
       "      <td>No</td>\n",
       "      <td>Month-to-month</td>\n",
       "      <td>Yes</td>\n",
       "      <td>No</td>\n",
       "      <td>Fiber Optic</td>\n",
       "      <td>No</td>\n",
       "      <td>No</td>\n",
       "      <td>No</td>\n",
       "      <td>No</td>\n",
       "      <td>No</td>\n",
       "      <td>Yes</td>\n",
       "      <td>Yes</td>\n",
       "      <td>No</td>\n",
       "      <td>No</td>\n",
       "      <td>Mailed Check</td>\n",
       "      <td>1.670972</td>\n",
       "      <td>150.761216</td>\n",
       "      <td>271.493436</td>\n",
       "      <td>4</td>\n",
       "      <td>4</td>\n",
       "      <td>4</td>\n",
       "      <td>3</td>\n",
       "      <td>4</td>\n",
       "      <td>4</td>\n",
       "      <td>4</td>\n",
       "      <td>5</td>\n",
       "    </tr>\n",
       "  </tbody>\n",
       "</table>\n",
       "</div>"
      ],
      "text/plain": [
       "   Unnamed: 0  CaseOrder Customer_id                           Interaction  \\\n",
       "0           1          1     K409198  aa90260b-4141-4a24-8e36-b04ce1f4f77b   \n",
       "1           2          2     S120509  fb76459f-c047-4a9d-8af9-e0f7d4ac2524   \n",
       "2           3          3     K191035  344d114c-3736-4be5-98f7-c72c281e2d35   \n",
       "3           4          4      D90850  abfa2b40-2d43-4994-b15a-989b8c79e311   \n",
       "4           5          5     K662701  68a861fd-0d20-4e51-a587-8a90407ee574   \n",
       "\n",
       "          City State                 County    Zip       Lat        Lng  \\\n",
       "0  Point Baker    AK  Prince of Wales-Hyder  99927  56.25100 -133.37571   \n",
       "1  West Branch    MI                 Ogemaw  48661  44.32893  -84.24080   \n",
       "2      Yamhill    OR                Yamhill  97148  45.35589 -123.24657   \n",
       "3      Del Mar    CA              San Diego  92014  32.96687 -117.24798   \n",
       "4    Needville    TX              Fort Bend  77461  29.38012  -95.80673   \n",
       "\n",
       "   Population      Area             Timezone  \\\n",
       "0          38     Urban        America/Sitka   \n",
       "1       10446     Urban      America/Detroit   \n",
       "2        3735     Urban  America/Los_Angeles   \n",
       "3       13863  Suburban  America/Los_Angeles   \n",
       "4       11352  Suburban      America/Chicago   \n",
       "\n",
       "                                 Job  Children   Age  \\\n",
       "0  Environmental health practitioner       NaN  68.0   \n",
       "1             Programmer, multimedia       1.0  27.0   \n",
       "2            Chief Financial Officer       4.0  50.0   \n",
       "3                          Solicitor       1.0  48.0   \n",
       "4                Medical illustrator       0.0  83.0   \n",
       "\n",
       "                     Education Employment    Income    Marital  Gender Churn  \\\n",
       "0              Master's Degree  Part Time  28561.99    Widowed    Male    No   \n",
       "1  Regular High School Diploma    Retired  21704.77    Married  Female   Yes   \n",
       "2  Regular High School Diploma    Student       NaN    Widowed  Female    No   \n",
       "3             Doctorate Degree    Retired  18925.23    Married    Male    No   \n",
       "4              Master's Degree    Student  40074.19  Separated    Male   Yes   \n",
       "\n",
       "   Outage_sec_perweek  Email  Contacts  Yearly_equip_failure Techie  \\\n",
       "0            6.972566     10         0                     1     No   \n",
       "1           12.014541     12         0                     1    Yes   \n",
       "2           10.245616      9         0                     1    Yes   \n",
       "3           15.206193     15         2                     0    Yes   \n",
       "4            8.960316     16         2                     1     No   \n",
       "\n",
       "         Contract Port_modem Tablet InternetService Phone Multiple  \\\n",
       "0        One year        Yes    Yes     Fiber Optic   Yes       No   \n",
       "1  Month-to-month         No    Yes     Fiber Optic   Yes      Yes   \n",
       "2        Two Year        Yes     No             DSL   Yes      Yes   \n",
       "3        Two Year         No     No             DSL   Yes       No   \n",
       "4  Month-to-month        Yes     No     Fiber Optic    No       No   \n",
       "\n",
       "  OnlineSecurity OnlineBackup DeviceProtection TechSupport StreamingTV  \\\n",
       "0            Yes          Yes               No          No          No   \n",
       "1            Yes           No               No          No         Yes   \n",
       "2             No           No               No          No          No   \n",
       "3            Yes           No               No          No         Yes   \n",
       "4             No           No               No         Yes         Yes   \n",
       "\n",
       "  StreamingMovies PaperlessBilling             PaymentMethod     Tenure  \\\n",
       "0             Yes              Yes   Credit Card (automatic)   6.795513   \n",
       "1             Yes              Yes  Bank Transfer(automatic)   1.156681   \n",
       "2             Yes              Yes   Credit Card (automatic)  15.754144   \n",
       "3              No              Yes              Mailed Check  17.087227   \n",
       "4              No               No              Mailed Check   1.670972   \n",
       "\n",
       "   MonthlyCharge  Bandwidth_GB_Year  item1  item2  item3  item4  item5  item6  \\\n",
       "0     171.449762         904.536110      5      5      5      3      4      4   \n",
       "1     242.948015         800.982766      3      4      3      3      4      3   \n",
       "2     159.440398        2054.706961      4      4      2      4      4      3   \n",
       "3     120.249493        2164.579412      4      4      4      2      5      4   \n",
       "4     150.761216         271.493436      4      4      4      3      4      4   \n",
       "\n",
       "   item7  item8  \n",
       "0      3      4  \n",
       "1      4      4  \n",
       "2      3      3  \n",
       "3      3      3  \n",
       "4      4      5  "
      ]
     },
     "execution_count": 2,
     "metadata": {},
     "output_type": "execute_result"
    }
   ],
   "source": [
    "#import the telecommunications churn dataset csv file to be used. \n",
    "#view dataset to ensure proper loading.\n",
    "\n",
    "churn = pd.read_csv('churn_raw_data.csv')\n",
    "pd.set_option('display.max_columns', None)\n",
    "churn.head()"
   ]
  },
  {
   "cell_type": "code",
   "execution_count": 3,
   "id": "421ece31",
   "metadata": {},
   "outputs": [],
   "source": [
    "#rename item 1-8 as easily identifiable variable names\n",
    "\n",
    "churn = churn.rename(columns = { \"item1\": \"Timely_Respd\", \"item2\": \"Timely_Fixes\",\n",
    "                                \"item3\": \"Timely_Replc\", \"item4\": \"Reliability\", \"item5\": \"Options\",\n",
    "                                \"item6\": \"Respect_Resp\", \"item7\": \"Courteous_Exch\", \n",
    "                                \"item8\": \"Evidence_ActListen\"})"
   ]
  },
  {
   "cell_type": "code",
   "execution_count": 4,
   "id": "1ec629bb",
   "metadata": {},
   "outputs": [],
   "source": [
    "# creation of an index for the dataset\n",
    "churn['Index'] = pd.Series(range(0,10000))"
   ]
  },
  {
   "cell_type": "code",
   "execution_count": 5,
   "id": "f201636d",
   "metadata": {},
   "outputs": [
    {
     "name": "stdout",
     "output_type": "stream",
     "text": [
      "<class 'pandas.core.frame.DataFrame'>\n",
      "RangeIndex: 10000 entries, 0 to 9999\n",
      "Data columns (total 53 columns):\n",
      " #   Column                Non-Null Count  Dtype  \n",
      "---  ------                --------------  -----  \n",
      " 0   Unnamed: 0            10000 non-null  int64  \n",
      " 1   CaseOrder             10000 non-null  int64  \n",
      " 2   Customer_id           10000 non-null  object \n",
      " 3   Interaction           10000 non-null  object \n",
      " 4   City                  10000 non-null  object \n",
      " 5   State                 10000 non-null  object \n",
      " 6   County                10000 non-null  object \n",
      " 7   Zip                   10000 non-null  int64  \n",
      " 8   Lat                   10000 non-null  float64\n",
      " 9   Lng                   10000 non-null  float64\n",
      " 10  Population            10000 non-null  int64  \n",
      " 11  Area                  10000 non-null  object \n",
      " 12  Timezone              10000 non-null  object \n",
      " 13  Job                   10000 non-null  object \n",
      " 14  Children              7505 non-null   float64\n",
      " 15  Age                   7525 non-null   float64\n",
      " 16  Education             10000 non-null  object \n",
      " 17  Employment            10000 non-null  object \n",
      " 18  Income                7510 non-null   float64\n",
      " 19  Marital               10000 non-null  object \n",
      " 20  Gender                10000 non-null  object \n",
      " 21  Churn                 10000 non-null  object \n",
      " 22  Outage_sec_perweek    10000 non-null  float64\n",
      " 23  Email                 10000 non-null  int64  \n",
      " 24  Contacts              10000 non-null  int64  \n",
      " 25  Yearly_equip_failure  10000 non-null  int64  \n",
      " 26  Techie                7523 non-null   object \n",
      " 27  Contract              10000 non-null  object \n",
      " 28  Port_modem            10000 non-null  object \n",
      " 29  Tablet                10000 non-null  object \n",
      " 30  InternetService       10000 non-null  object \n",
      " 31  Phone                 8974 non-null   object \n",
      " 32  Multiple              10000 non-null  object \n",
      " 33  OnlineSecurity        10000 non-null  object \n",
      " 34  OnlineBackup          10000 non-null  object \n",
      " 35  DeviceProtection      10000 non-null  object \n",
      " 36  TechSupport           9009 non-null   object \n",
      " 37  StreamingTV           10000 non-null  object \n",
      " 38  StreamingMovies       10000 non-null  object \n",
      " 39  PaperlessBilling      10000 non-null  object \n",
      " 40  PaymentMethod         10000 non-null  object \n",
      " 41  Tenure                9069 non-null   float64\n",
      " 42  MonthlyCharge         10000 non-null  float64\n",
      " 43  Bandwidth_GB_Year     8979 non-null   float64\n",
      " 44  Timely_Respd          10000 non-null  int64  \n",
      " 45  Timely_Fixes          10000 non-null  int64  \n",
      " 46  Timely_Replc          10000 non-null  int64  \n",
      " 47  Reliability           10000 non-null  int64  \n",
      " 48  Options               10000 non-null  int64  \n",
      " 49  Respect_Resp          10000 non-null  int64  \n",
      " 50  Courteous_Exch        10000 non-null  int64  \n",
      " 51  Evidence_ActListen    10000 non-null  int64  \n",
      " 52  Index                 10000 non-null  int64  \n",
      "dtypes: float64(9), int64(16), object(28)\n",
      "memory usage: 4.0+ MB\n"
     ]
    }
   ],
   "source": [
    "#detection of duplicates, first by visual of variables within dataset.\n",
    "\n",
    "churn.info()"
   ]
  },
  {
   "cell_type": "code",
   "execution_count": 6,
   "id": "b4ea74bd",
   "metadata": {},
   "outputs": [
    {
     "data": {
      "text/plain": [
       "0       False\n",
       "1       False\n",
       "2       False\n",
       "3       False\n",
       "4       False\n",
       "        ...  \n",
       "9995    False\n",
       "9996    False\n",
       "9997    False\n",
       "9998    False\n",
       "9999    False\n",
       "Length: 10000, dtype: bool"
      ]
     },
     "execution_count": 6,
     "metadata": {},
     "output_type": "execute_result"
    }
   ],
   "source": [
    "#use the duplicated function to find duplicates within the rows\n",
    "\n",
    "churn.duplicated()"
   ]
  },
  {
   "cell_type": "code",
   "execution_count": 7,
   "id": "c40f79c4",
   "metadata": {},
   "outputs": [],
   "source": [
    "duplicates = churn.duplicated('Customer_id', keep=False)"
   ]
  },
  {
   "cell_type": "code",
   "execution_count": 8,
   "id": "05a48d46",
   "metadata": {},
   "outputs": [],
   "source": [
    "churn_duplicated =churn[duplicates].sort_values(by='Customer_id')"
   ]
  },
  {
   "cell_type": "code",
   "execution_count": 9,
   "id": "1c79f83b",
   "metadata": {},
   "outputs": [
    {
     "name": "stdout",
     "output_type": "stream",
     "text": [
      "Empty DataFrame\n",
      "Columns: [Customer_id]\n",
      "Index: []\n"
     ]
    }
   ],
   "source": [
    "print(churn_duplicated[['Customer_id']])"
   ]
  },
  {
   "cell_type": "code",
   "execution_count": 10,
   "id": "cf5c862a",
   "metadata": {},
   "outputs": [
    {
     "data": {
      "text/html": [
       "<div>\n",
       "<style scoped>\n",
       "    .dataframe tbody tr th:only-of-type {\n",
       "        vertical-align: middle;\n",
       "    }\n",
       "\n",
       "    .dataframe tbody tr th {\n",
       "        vertical-align: top;\n",
       "    }\n",
       "\n",
       "    .dataframe thead th {\n",
       "        text-align: right;\n",
       "    }\n",
       "</style>\n",
       "<table border=\"1\" class=\"dataframe\">\n",
       "  <thead>\n",
       "    <tr style=\"text-align: right;\">\n",
       "      <th></th>\n",
       "      <th>Unnamed: 0</th>\n",
       "      <th>CaseOrder</th>\n",
       "      <th>Zip</th>\n",
       "      <th>Lat</th>\n",
       "      <th>Lng</th>\n",
       "      <th>Population</th>\n",
       "      <th>Children</th>\n",
       "      <th>Age</th>\n",
       "      <th>Income</th>\n",
       "      <th>Outage_sec_perweek</th>\n",
       "      <th>Email</th>\n",
       "      <th>Contacts</th>\n",
       "      <th>Yearly_equip_failure</th>\n",
       "      <th>Tenure</th>\n",
       "      <th>MonthlyCharge</th>\n",
       "      <th>Bandwidth_GB_Year</th>\n",
       "      <th>Timely_Respd</th>\n",
       "      <th>Timely_Fixes</th>\n",
       "      <th>Timely_Replc</th>\n",
       "      <th>Reliability</th>\n",
       "      <th>Options</th>\n",
       "      <th>Respect_Resp</th>\n",
       "      <th>Courteous_Exch</th>\n",
       "      <th>Evidence_ActListen</th>\n",
       "      <th>Index</th>\n",
       "    </tr>\n",
       "  </thead>\n",
       "  <tbody>\n",
       "    <tr>\n",
       "      <th>count</th>\n",
       "      <td>10000.00000</td>\n",
       "      <td>10000.00000</td>\n",
       "      <td>10000.000000</td>\n",
       "      <td>10000.000000</td>\n",
       "      <td>10000.000000</td>\n",
       "      <td>10000.000000</td>\n",
       "      <td>7505.000000</td>\n",
       "      <td>7525.000000</td>\n",
       "      <td>7510.000000</td>\n",
       "      <td>10000.000000</td>\n",
       "      <td>10000.000000</td>\n",
       "      <td>10000.000000</td>\n",
       "      <td>10000.000000</td>\n",
       "      <td>9069.000000</td>\n",
       "      <td>10000.000000</td>\n",
       "      <td>8979.000000</td>\n",
       "      <td>10000.000000</td>\n",
       "      <td>10000.000000</td>\n",
       "      <td>10000.000000</td>\n",
       "      <td>10000.000000</td>\n",
       "      <td>10000.000000</td>\n",
       "      <td>10000.000000</td>\n",
       "      <td>10000.000000</td>\n",
       "      <td>10000.000000</td>\n",
       "      <td>10000.00000</td>\n",
       "    </tr>\n",
       "    <tr>\n",
       "      <th>mean</th>\n",
       "      <td>5000.50000</td>\n",
       "      <td>5000.50000</td>\n",
       "      <td>49153.319600</td>\n",
       "      <td>38.757567</td>\n",
       "      <td>-90.782536</td>\n",
       "      <td>9756.562400</td>\n",
       "      <td>2.095936</td>\n",
       "      <td>53.275748</td>\n",
       "      <td>39936.762226</td>\n",
       "      <td>11.452955</td>\n",
       "      <td>12.016000</td>\n",
       "      <td>0.994200</td>\n",
       "      <td>0.398000</td>\n",
       "      <td>34.498858</td>\n",
       "      <td>174.076305</td>\n",
       "      <td>3398.842752</td>\n",
       "      <td>3.490800</td>\n",
       "      <td>3.505100</td>\n",
       "      <td>3.487000</td>\n",
       "      <td>3.497500</td>\n",
       "      <td>3.492900</td>\n",
       "      <td>3.497300</td>\n",
       "      <td>3.509500</td>\n",
       "      <td>3.495600</td>\n",
       "      <td>4999.50000</td>\n",
       "    </tr>\n",
       "    <tr>\n",
       "      <th>std</th>\n",
       "      <td>2886.89568</td>\n",
       "      <td>2886.89568</td>\n",
       "      <td>27532.196108</td>\n",
       "      <td>5.437389</td>\n",
       "      <td>15.156142</td>\n",
       "      <td>14432.698671</td>\n",
       "      <td>2.154758</td>\n",
       "      <td>20.753928</td>\n",
       "      <td>28358.469482</td>\n",
       "      <td>7.025921</td>\n",
       "      <td>3.025898</td>\n",
       "      <td>0.988466</td>\n",
       "      <td>0.635953</td>\n",
       "      <td>26.438904</td>\n",
       "      <td>43.335473</td>\n",
       "      <td>2187.396807</td>\n",
       "      <td>1.037797</td>\n",
       "      <td>1.034641</td>\n",
       "      <td>1.027977</td>\n",
       "      <td>1.025816</td>\n",
       "      <td>1.024819</td>\n",
       "      <td>1.033586</td>\n",
       "      <td>1.028502</td>\n",
       "      <td>1.028633</td>\n",
       "      <td>2886.89568</td>\n",
       "    </tr>\n",
       "    <tr>\n",
       "      <th>min</th>\n",
       "      <td>1.00000</td>\n",
       "      <td>1.00000</td>\n",
       "      <td>601.000000</td>\n",
       "      <td>17.966120</td>\n",
       "      <td>-171.688150</td>\n",
       "      <td>0.000000</td>\n",
       "      <td>0.000000</td>\n",
       "      <td>18.000000</td>\n",
       "      <td>740.660000</td>\n",
       "      <td>-1.348571</td>\n",
       "      <td>1.000000</td>\n",
       "      <td>0.000000</td>\n",
       "      <td>0.000000</td>\n",
       "      <td>1.000259</td>\n",
       "      <td>77.505230</td>\n",
       "      <td>155.506715</td>\n",
       "      <td>1.000000</td>\n",
       "      <td>1.000000</td>\n",
       "      <td>1.000000</td>\n",
       "      <td>1.000000</td>\n",
       "      <td>1.000000</td>\n",
       "      <td>1.000000</td>\n",
       "      <td>1.000000</td>\n",
       "      <td>1.000000</td>\n",
       "      <td>0.00000</td>\n",
       "    </tr>\n",
       "    <tr>\n",
       "      <th>25%</th>\n",
       "      <td>2500.75000</td>\n",
       "      <td>2500.75000</td>\n",
       "      <td>26292.500000</td>\n",
       "      <td>35.341828</td>\n",
       "      <td>-97.082812</td>\n",
       "      <td>738.000000</td>\n",
       "      <td>0.000000</td>\n",
       "      <td>35.000000</td>\n",
       "      <td>19285.522500</td>\n",
       "      <td>8.054362</td>\n",
       "      <td>10.000000</td>\n",
       "      <td>0.000000</td>\n",
       "      <td>0.000000</td>\n",
       "      <td>7.890442</td>\n",
       "      <td>141.071078</td>\n",
       "      <td>1234.110529</td>\n",
       "      <td>3.000000</td>\n",
       "      <td>3.000000</td>\n",
       "      <td>3.000000</td>\n",
       "      <td>3.000000</td>\n",
       "      <td>3.000000</td>\n",
       "      <td>3.000000</td>\n",
       "      <td>3.000000</td>\n",
       "      <td>3.000000</td>\n",
       "      <td>2499.75000</td>\n",
       "    </tr>\n",
       "    <tr>\n",
       "      <th>50%</th>\n",
       "      <td>5000.50000</td>\n",
       "      <td>5000.50000</td>\n",
       "      <td>48869.500000</td>\n",
       "      <td>39.395800</td>\n",
       "      <td>-87.918800</td>\n",
       "      <td>2910.500000</td>\n",
       "      <td>1.000000</td>\n",
       "      <td>53.000000</td>\n",
       "      <td>33186.785000</td>\n",
       "      <td>10.202896</td>\n",
       "      <td>12.000000</td>\n",
       "      <td>1.000000</td>\n",
       "      <td>0.000000</td>\n",
       "      <td>36.196030</td>\n",
       "      <td>169.915400</td>\n",
       "      <td>3382.424000</td>\n",
       "      <td>3.000000</td>\n",
       "      <td>4.000000</td>\n",
       "      <td>3.000000</td>\n",
       "      <td>3.000000</td>\n",
       "      <td>3.000000</td>\n",
       "      <td>3.000000</td>\n",
       "      <td>4.000000</td>\n",
       "      <td>3.000000</td>\n",
       "      <td>4999.50000</td>\n",
       "    </tr>\n",
       "    <tr>\n",
       "      <th>75%</th>\n",
       "      <td>7500.25000</td>\n",
       "      <td>7500.25000</td>\n",
       "      <td>71866.500000</td>\n",
       "      <td>42.106908</td>\n",
       "      <td>-80.088745</td>\n",
       "      <td>13168.000000</td>\n",
       "      <td>3.000000</td>\n",
       "      <td>71.000000</td>\n",
       "      <td>53472.395000</td>\n",
       "      <td>12.487644</td>\n",
       "      <td>14.000000</td>\n",
       "      <td>2.000000</td>\n",
       "      <td>1.000000</td>\n",
       "      <td>61.426670</td>\n",
       "      <td>203.777441</td>\n",
       "      <td>5587.096500</td>\n",
       "      <td>4.000000</td>\n",
       "      <td>4.000000</td>\n",
       "      <td>4.000000</td>\n",
       "      <td>4.000000</td>\n",
       "      <td>4.000000</td>\n",
       "      <td>4.000000</td>\n",
       "      <td>4.000000</td>\n",
       "      <td>4.000000</td>\n",
       "      <td>7499.25000</td>\n",
       "    </tr>\n",
       "    <tr>\n",
       "      <th>max</th>\n",
       "      <td>10000.00000</td>\n",
       "      <td>10000.00000</td>\n",
       "      <td>99929.000000</td>\n",
       "      <td>70.640660</td>\n",
       "      <td>-65.667850</td>\n",
       "      <td>111850.000000</td>\n",
       "      <td>10.000000</td>\n",
       "      <td>89.000000</td>\n",
       "      <td>258900.700000</td>\n",
       "      <td>47.049280</td>\n",
       "      <td>23.000000</td>\n",
       "      <td>7.000000</td>\n",
       "      <td>6.000000</td>\n",
       "      <td>71.999280</td>\n",
       "      <td>315.878600</td>\n",
       "      <td>7158.982000</td>\n",
       "      <td>7.000000</td>\n",
       "      <td>7.000000</td>\n",
       "      <td>8.000000</td>\n",
       "      <td>7.000000</td>\n",
       "      <td>7.000000</td>\n",
       "      <td>8.000000</td>\n",
       "      <td>7.000000</td>\n",
       "      <td>8.000000</td>\n",
       "      <td>9999.00000</td>\n",
       "    </tr>\n",
       "  </tbody>\n",
       "</table>\n",
       "</div>"
      ],
      "text/plain": [
       "        Unnamed: 0    CaseOrder           Zip           Lat           Lng  \\\n",
       "count  10000.00000  10000.00000  10000.000000  10000.000000  10000.000000   \n",
       "mean    5000.50000   5000.50000  49153.319600     38.757567    -90.782536   \n",
       "std     2886.89568   2886.89568  27532.196108      5.437389     15.156142   \n",
       "min        1.00000      1.00000    601.000000     17.966120   -171.688150   \n",
       "25%     2500.75000   2500.75000  26292.500000     35.341828    -97.082812   \n",
       "50%     5000.50000   5000.50000  48869.500000     39.395800    -87.918800   \n",
       "75%     7500.25000   7500.25000  71866.500000     42.106908    -80.088745   \n",
       "max    10000.00000  10000.00000  99929.000000     70.640660    -65.667850   \n",
       "\n",
       "          Population     Children          Age         Income  \\\n",
       "count   10000.000000  7505.000000  7525.000000    7510.000000   \n",
       "mean     9756.562400     2.095936    53.275748   39936.762226   \n",
       "std     14432.698671     2.154758    20.753928   28358.469482   \n",
       "min         0.000000     0.000000    18.000000     740.660000   \n",
       "25%       738.000000     0.000000    35.000000   19285.522500   \n",
       "50%      2910.500000     1.000000    53.000000   33186.785000   \n",
       "75%     13168.000000     3.000000    71.000000   53472.395000   \n",
       "max    111850.000000    10.000000    89.000000  258900.700000   \n",
       "\n",
       "       Outage_sec_perweek         Email      Contacts  Yearly_equip_failure  \\\n",
       "count        10000.000000  10000.000000  10000.000000          10000.000000   \n",
       "mean            11.452955     12.016000      0.994200              0.398000   \n",
       "std              7.025921      3.025898      0.988466              0.635953   \n",
       "min             -1.348571      1.000000      0.000000              0.000000   \n",
       "25%              8.054362     10.000000      0.000000              0.000000   \n",
       "50%             10.202896     12.000000      1.000000              0.000000   \n",
       "75%             12.487644     14.000000      2.000000              1.000000   \n",
       "max             47.049280     23.000000      7.000000              6.000000   \n",
       "\n",
       "            Tenure  MonthlyCharge  Bandwidth_GB_Year  Timely_Respd  \\\n",
       "count  9069.000000   10000.000000        8979.000000  10000.000000   \n",
       "mean     34.498858     174.076305        3398.842752      3.490800   \n",
       "std      26.438904      43.335473        2187.396807      1.037797   \n",
       "min       1.000259      77.505230         155.506715      1.000000   \n",
       "25%       7.890442     141.071078        1234.110529      3.000000   \n",
       "50%      36.196030     169.915400        3382.424000      3.000000   \n",
       "75%      61.426670     203.777441        5587.096500      4.000000   \n",
       "max      71.999280     315.878600        7158.982000      7.000000   \n",
       "\n",
       "       Timely_Fixes  Timely_Replc   Reliability       Options  Respect_Resp  \\\n",
       "count  10000.000000  10000.000000  10000.000000  10000.000000  10000.000000   \n",
       "mean       3.505100      3.487000      3.497500      3.492900      3.497300   \n",
       "std        1.034641      1.027977      1.025816      1.024819      1.033586   \n",
       "min        1.000000      1.000000      1.000000      1.000000      1.000000   \n",
       "25%        3.000000      3.000000      3.000000      3.000000      3.000000   \n",
       "50%        4.000000      3.000000      3.000000      3.000000      3.000000   \n",
       "75%        4.000000      4.000000      4.000000      4.000000      4.000000   \n",
       "max        7.000000      8.000000      7.000000      7.000000      8.000000   \n",
       "\n",
       "       Courteous_Exch  Evidence_ActListen        Index  \n",
       "count    10000.000000        10000.000000  10000.00000  \n",
       "mean         3.509500            3.495600   4999.50000  \n",
       "std          1.028502            1.028633   2886.89568  \n",
       "min          1.000000            1.000000      0.00000  \n",
       "25%          3.000000            3.000000   2499.75000  \n",
       "50%          4.000000            3.000000   4999.50000  \n",
       "75%          4.000000            4.000000   7499.25000  \n",
       "max          7.000000            8.000000   9999.00000  "
      ]
     },
     "execution_count": 10,
     "metadata": {},
     "output_type": "execute_result"
    }
   ],
   "source": [
    "#use describe function to overview for missing data\n",
    "#review values to detect inherent missing/invalid values within dataframe\n",
    "\n",
    "churn.describe()"
   ]
  },
  {
   "cell_type": "code",
   "execution_count": 11,
   "id": "1ce7c518",
   "metadata": {
    "scrolled": true
   },
   "outputs": [
    {
     "data": {
      "text/html": [
       "<div>\n",
       "<style scoped>\n",
       "    .dataframe tbody tr th:only-of-type {\n",
       "        vertical-align: middle;\n",
       "    }\n",
       "\n",
       "    .dataframe tbody tr th {\n",
       "        vertical-align: top;\n",
       "    }\n",
       "\n",
       "    .dataframe thead th {\n",
       "        text-align: right;\n",
       "    }\n",
       "</style>\n",
       "<table border=\"1\" class=\"dataframe\">\n",
       "  <thead>\n",
       "    <tr style=\"text-align: right;\">\n",
       "      <th></th>\n",
       "      <th>Unnamed: 0</th>\n",
       "      <th>CaseOrder</th>\n",
       "      <th>Customer_id</th>\n",
       "      <th>Interaction</th>\n",
       "      <th>City</th>\n",
       "      <th>State</th>\n",
       "      <th>County</th>\n",
       "      <th>Zip</th>\n",
       "      <th>Lat</th>\n",
       "      <th>Lng</th>\n",
       "      <th>Population</th>\n",
       "      <th>Area</th>\n",
       "      <th>Timezone</th>\n",
       "      <th>Job</th>\n",
       "      <th>Children</th>\n",
       "      <th>Age</th>\n",
       "      <th>Education</th>\n",
       "      <th>Employment</th>\n",
       "      <th>Income</th>\n",
       "      <th>Marital</th>\n",
       "      <th>Gender</th>\n",
       "      <th>Churn</th>\n",
       "      <th>Outage_sec_perweek</th>\n",
       "      <th>Email</th>\n",
       "      <th>Contacts</th>\n",
       "      <th>Yearly_equip_failure</th>\n",
       "      <th>Techie</th>\n",
       "      <th>Contract</th>\n",
       "      <th>Port_modem</th>\n",
       "      <th>Tablet</th>\n",
       "      <th>InternetService</th>\n",
       "      <th>Phone</th>\n",
       "      <th>Multiple</th>\n",
       "      <th>OnlineSecurity</th>\n",
       "      <th>OnlineBackup</th>\n",
       "      <th>DeviceProtection</th>\n",
       "      <th>TechSupport</th>\n",
       "      <th>StreamingTV</th>\n",
       "      <th>StreamingMovies</th>\n",
       "      <th>PaperlessBilling</th>\n",
       "      <th>PaymentMethod</th>\n",
       "      <th>Tenure</th>\n",
       "      <th>MonthlyCharge</th>\n",
       "      <th>Bandwidth_GB_Year</th>\n",
       "      <th>Timely_Respd</th>\n",
       "      <th>Timely_Fixes</th>\n",
       "      <th>Timely_Replc</th>\n",
       "      <th>Reliability</th>\n",
       "      <th>Options</th>\n",
       "      <th>Respect_Resp</th>\n",
       "      <th>Courteous_Exch</th>\n",
       "      <th>Evidence_ActListen</th>\n",
       "      <th>Index</th>\n",
       "    </tr>\n",
       "  </thead>\n",
       "  <tbody>\n",
       "    <tr>\n",
       "      <th>0</th>\n",
       "      <td>False</td>\n",
       "      <td>False</td>\n",
       "      <td>False</td>\n",
       "      <td>False</td>\n",
       "      <td>False</td>\n",
       "      <td>False</td>\n",
       "      <td>False</td>\n",
       "      <td>False</td>\n",
       "      <td>False</td>\n",
       "      <td>False</td>\n",
       "      <td>False</td>\n",
       "      <td>False</td>\n",
       "      <td>False</td>\n",
       "      <td>False</td>\n",
       "      <td>True</td>\n",
       "      <td>False</td>\n",
       "      <td>False</td>\n",
       "      <td>False</td>\n",
       "      <td>False</td>\n",
       "      <td>False</td>\n",
       "      <td>False</td>\n",
       "      <td>False</td>\n",
       "      <td>False</td>\n",
       "      <td>False</td>\n",
       "      <td>False</td>\n",
       "      <td>False</td>\n",
       "      <td>False</td>\n",
       "      <td>False</td>\n",
       "      <td>False</td>\n",
       "      <td>False</td>\n",
       "      <td>False</td>\n",
       "      <td>False</td>\n",
       "      <td>False</td>\n",
       "      <td>False</td>\n",
       "      <td>False</td>\n",
       "      <td>False</td>\n",
       "      <td>False</td>\n",
       "      <td>False</td>\n",
       "      <td>False</td>\n",
       "      <td>False</td>\n",
       "      <td>False</td>\n",
       "      <td>False</td>\n",
       "      <td>False</td>\n",
       "      <td>False</td>\n",
       "      <td>False</td>\n",
       "      <td>False</td>\n",
       "      <td>False</td>\n",
       "      <td>False</td>\n",
       "      <td>False</td>\n",
       "      <td>False</td>\n",
       "      <td>False</td>\n",
       "      <td>False</td>\n",
       "      <td>False</td>\n",
       "    </tr>\n",
       "    <tr>\n",
       "      <th>1</th>\n",
       "      <td>False</td>\n",
       "      <td>False</td>\n",
       "      <td>False</td>\n",
       "      <td>False</td>\n",
       "      <td>False</td>\n",
       "      <td>False</td>\n",
       "      <td>False</td>\n",
       "      <td>False</td>\n",
       "      <td>False</td>\n",
       "      <td>False</td>\n",
       "      <td>False</td>\n",
       "      <td>False</td>\n",
       "      <td>False</td>\n",
       "      <td>False</td>\n",
       "      <td>False</td>\n",
       "      <td>False</td>\n",
       "      <td>False</td>\n",
       "      <td>False</td>\n",
       "      <td>False</td>\n",
       "      <td>False</td>\n",
       "      <td>False</td>\n",
       "      <td>False</td>\n",
       "      <td>False</td>\n",
       "      <td>False</td>\n",
       "      <td>False</td>\n",
       "      <td>False</td>\n",
       "      <td>False</td>\n",
       "      <td>False</td>\n",
       "      <td>False</td>\n",
       "      <td>False</td>\n",
       "      <td>False</td>\n",
       "      <td>False</td>\n",
       "      <td>False</td>\n",
       "      <td>False</td>\n",
       "      <td>False</td>\n",
       "      <td>False</td>\n",
       "      <td>False</td>\n",
       "      <td>False</td>\n",
       "      <td>False</td>\n",
       "      <td>False</td>\n",
       "      <td>False</td>\n",
       "      <td>False</td>\n",
       "      <td>False</td>\n",
       "      <td>False</td>\n",
       "      <td>False</td>\n",
       "      <td>False</td>\n",
       "      <td>False</td>\n",
       "      <td>False</td>\n",
       "      <td>False</td>\n",
       "      <td>False</td>\n",
       "      <td>False</td>\n",
       "      <td>False</td>\n",
       "      <td>False</td>\n",
       "    </tr>\n",
       "    <tr>\n",
       "      <th>2</th>\n",
       "      <td>False</td>\n",
       "      <td>False</td>\n",
       "      <td>False</td>\n",
       "      <td>False</td>\n",
       "      <td>False</td>\n",
       "      <td>False</td>\n",
       "      <td>False</td>\n",
       "      <td>False</td>\n",
       "      <td>False</td>\n",
       "      <td>False</td>\n",
       "      <td>False</td>\n",
       "      <td>False</td>\n",
       "      <td>False</td>\n",
       "      <td>False</td>\n",
       "      <td>False</td>\n",
       "      <td>False</td>\n",
       "      <td>False</td>\n",
       "      <td>False</td>\n",
       "      <td>True</td>\n",
       "      <td>False</td>\n",
       "      <td>False</td>\n",
       "      <td>False</td>\n",
       "      <td>False</td>\n",
       "      <td>False</td>\n",
       "      <td>False</td>\n",
       "      <td>False</td>\n",
       "      <td>False</td>\n",
       "      <td>False</td>\n",
       "      <td>False</td>\n",
       "      <td>False</td>\n",
       "      <td>False</td>\n",
       "      <td>False</td>\n",
       "      <td>False</td>\n",
       "      <td>False</td>\n",
       "      <td>False</td>\n",
       "      <td>False</td>\n",
       "      <td>False</td>\n",
       "      <td>False</td>\n",
       "      <td>False</td>\n",
       "      <td>False</td>\n",
       "      <td>False</td>\n",
       "      <td>False</td>\n",
       "      <td>False</td>\n",
       "      <td>False</td>\n",
       "      <td>False</td>\n",
       "      <td>False</td>\n",
       "      <td>False</td>\n",
       "      <td>False</td>\n",
       "      <td>False</td>\n",
       "      <td>False</td>\n",
       "      <td>False</td>\n",
       "      <td>False</td>\n",
       "      <td>False</td>\n",
       "    </tr>\n",
       "    <tr>\n",
       "      <th>3</th>\n",
       "      <td>False</td>\n",
       "      <td>False</td>\n",
       "      <td>False</td>\n",
       "      <td>False</td>\n",
       "      <td>False</td>\n",
       "      <td>False</td>\n",
       "      <td>False</td>\n",
       "      <td>False</td>\n",
       "      <td>False</td>\n",
       "      <td>False</td>\n",
       "      <td>False</td>\n",
       "      <td>False</td>\n",
       "      <td>False</td>\n",
       "      <td>False</td>\n",
       "      <td>False</td>\n",
       "      <td>False</td>\n",
       "      <td>False</td>\n",
       "      <td>False</td>\n",
       "      <td>False</td>\n",
       "      <td>False</td>\n",
       "      <td>False</td>\n",
       "      <td>False</td>\n",
       "      <td>False</td>\n",
       "      <td>False</td>\n",
       "      <td>False</td>\n",
       "      <td>False</td>\n",
       "      <td>False</td>\n",
       "      <td>False</td>\n",
       "      <td>False</td>\n",
       "      <td>False</td>\n",
       "      <td>False</td>\n",
       "      <td>False</td>\n",
       "      <td>False</td>\n",
       "      <td>False</td>\n",
       "      <td>False</td>\n",
       "      <td>False</td>\n",
       "      <td>False</td>\n",
       "      <td>False</td>\n",
       "      <td>False</td>\n",
       "      <td>False</td>\n",
       "      <td>False</td>\n",
       "      <td>False</td>\n",
       "      <td>False</td>\n",
       "      <td>False</td>\n",
       "      <td>False</td>\n",
       "      <td>False</td>\n",
       "      <td>False</td>\n",
       "      <td>False</td>\n",
       "      <td>False</td>\n",
       "      <td>False</td>\n",
       "      <td>False</td>\n",
       "      <td>False</td>\n",
       "      <td>False</td>\n",
       "    </tr>\n",
       "    <tr>\n",
       "      <th>4</th>\n",
       "      <td>False</td>\n",
       "      <td>False</td>\n",
       "      <td>False</td>\n",
       "      <td>False</td>\n",
       "      <td>False</td>\n",
       "      <td>False</td>\n",
       "      <td>False</td>\n",
       "      <td>False</td>\n",
       "      <td>False</td>\n",
       "      <td>False</td>\n",
       "      <td>False</td>\n",
       "      <td>False</td>\n",
       "      <td>False</td>\n",
       "      <td>False</td>\n",
       "      <td>False</td>\n",
       "      <td>False</td>\n",
       "      <td>False</td>\n",
       "      <td>False</td>\n",
       "      <td>False</td>\n",
       "      <td>False</td>\n",
       "      <td>False</td>\n",
       "      <td>False</td>\n",
       "      <td>False</td>\n",
       "      <td>False</td>\n",
       "      <td>False</td>\n",
       "      <td>False</td>\n",
       "      <td>False</td>\n",
       "      <td>False</td>\n",
       "      <td>False</td>\n",
       "      <td>False</td>\n",
       "      <td>False</td>\n",
       "      <td>False</td>\n",
       "      <td>False</td>\n",
       "      <td>False</td>\n",
       "      <td>False</td>\n",
       "      <td>False</td>\n",
       "      <td>False</td>\n",
       "      <td>False</td>\n",
       "      <td>False</td>\n",
       "      <td>False</td>\n",
       "      <td>False</td>\n",
       "      <td>False</td>\n",
       "      <td>False</td>\n",
       "      <td>False</td>\n",
       "      <td>False</td>\n",
       "      <td>False</td>\n",
       "      <td>False</td>\n",
       "      <td>False</td>\n",
       "      <td>False</td>\n",
       "      <td>False</td>\n",
       "      <td>False</td>\n",
       "      <td>False</td>\n",
       "      <td>False</td>\n",
       "    </tr>\n",
       "    <tr>\n",
       "      <th>...</th>\n",
       "      <td>...</td>\n",
       "      <td>...</td>\n",
       "      <td>...</td>\n",
       "      <td>...</td>\n",
       "      <td>...</td>\n",
       "      <td>...</td>\n",
       "      <td>...</td>\n",
       "      <td>...</td>\n",
       "      <td>...</td>\n",
       "      <td>...</td>\n",
       "      <td>...</td>\n",
       "      <td>...</td>\n",
       "      <td>...</td>\n",
       "      <td>...</td>\n",
       "      <td>...</td>\n",
       "      <td>...</td>\n",
       "      <td>...</td>\n",
       "      <td>...</td>\n",
       "      <td>...</td>\n",
       "      <td>...</td>\n",
       "      <td>...</td>\n",
       "      <td>...</td>\n",
       "      <td>...</td>\n",
       "      <td>...</td>\n",
       "      <td>...</td>\n",
       "      <td>...</td>\n",
       "      <td>...</td>\n",
       "      <td>...</td>\n",
       "      <td>...</td>\n",
       "      <td>...</td>\n",
       "      <td>...</td>\n",
       "      <td>...</td>\n",
       "      <td>...</td>\n",
       "      <td>...</td>\n",
       "      <td>...</td>\n",
       "      <td>...</td>\n",
       "      <td>...</td>\n",
       "      <td>...</td>\n",
       "      <td>...</td>\n",
       "      <td>...</td>\n",
       "      <td>...</td>\n",
       "      <td>...</td>\n",
       "      <td>...</td>\n",
       "      <td>...</td>\n",
       "      <td>...</td>\n",
       "      <td>...</td>\n",
       "      <td>...</td>\n",
       "      <td>...</td>\n",
       "      <td>...</td>\n",
       "      <td>...</td>\n",
       "      <td>...</td>\n",
       "      <td>...</td>\n",
       "      <td>...</td>\n",
       "    </tr>\n",
       "    <tr>\n",
       "      <th>9995</th>\n",
       "      <td>False</td>\n",
       "      <td>False</td>\n",
       "      <td>False</td>\n",
       "      <td>False</td>\n",
       "      <td>False</td>\n",
       "      <td>False</td>\n",
       "      <td>False</td>\n",
       "      <td>False</td>\n",
       "      <td>False</td>\n",
       "      <td>False</td>\n",
       "      <td>False</td>\n",
       "      <td>False</td>\n",
       "      <td>False</td>\n",
       "      <td>False</td>\n",
       "      <td>False</td>\n",
       "      <td>True</td>\n",
       "      <td>False</td>\n",
       "      <td>False</td>\n",
       "      <td>False</td>\n",
       "      <td>False</td>\n",
       "      <td>False</td>\n",
       "      <td>False</td>\n",
       "      <td>False</td>\n",
       "      <td>False</td>\n",
       "      <td>False</td>\n",
       "      <td>False</td>\n",
       "      <td>True</td>\n",
       "      <td>False</td>\n",
       "      <td>False</td>\n",
       "      <td>False</td>\n",
       "      <td>False</td>\n",
       "      <td>True</td>\n",
       "      <td>False</td>\n",
       "      <td>False</td>\n",
       "      <td>False</td>\n",
       "      <td>False</td>\n",
       "      <td>False</td>\n",
       "      <td>False</td>\n",
       "      <td>False</td>\n",
       "      <td>False</td>\n",
       "      <td>False</td>\n",
       "      <td>False</td>\n",
       "      <td>False</td>\n",
       "      <td>False</td>\n",
       "      <td>False</td>\n",
       "      <td>False</td>\n",
       "      <td>False</td>\n",
       "      <td>False</td>\n",
       "      <td>False</td>\n",
       "      <td>False</td>\n",
       "      <td>False</td>\n",
       "      <td>False</td>\n",
       "      <td>False</td>\n",
       "    </tr>\n",
       "    <tr>\n",
       "      <th>9996</th>\n",
       "      <td>False</td>\n",
       "      <td>False</td>\n",
       "      <td>False</td>\n",
       "      <td>False</td>\n",
       "      <td>False</td>\n",
       "      <td>False</td>\n",
       "      <td>False</td>\n",
       "      <td>False</td>\n",
       "      <td>False</td>\n",
       "      <td>False</td>\n",
       "      <td>False</td>\n",
       "      <td>False</td>\n",
       "      <td>False</td>\n",
       "      <td>False</td>\n",
       "      <td>False</td>\n",
       "      <td>False</td>\n",
       "      <td>False</td>\n",
       "      <td>False</td>\n",
       "      <td>True</td>\n",
       "      <td>False</td>\n",
       "      <td>False</td>\n",
       "      <td>False</td>\n",
       "      <td>False</td>\n",
       "      <td>False</td>\n",
       "      <td>False</td>\n",
       "      <td>False</td>\n",
       "      <td>True</td>\n",
       "      <td>False</td>\n",
       "      <td>False</td>\n",
       "      <td>False</td>\n",
       "      <td>False</td>\n",
       "      <td>True</td>\n",
       "      <td>False</td>\n",
       "      <td>False</td>\n",
       "      <td>False</td>\n",
       "      <td>False</td>\n",
       "      <td>False</td>\n",
       "      <td>False</td>\n",
       "      <td>False</td>\n",
       "      <td>False</td>\n",
       "      <td>False</td>\n",
       "      <td>False</td>\n",
       "      <td>False</td>\n",
       "      <td>False</td>\n",
       "      <td>False</td>\n",
       "      <td>False</td>\n",
       "      <td>False</td>\n",
       "      <td>False</td>\n",
       "      <td>False</td>\n",
       "      <td>False</td>\n",
       "      <td>False</td>\n",
       "      <td>False</td>\n",
       "      <td>False</td>\n",
       "    </tr>\n",
       "    <tr>\n",
       "      <th>9997</th>\n",
       "      <td>False</td>\n",
       "      <td>False</td>\n",
       "      <td>False</td>\n",
       "      <td>False</td>\n",
       "      <td>False</td>\n",
       "      <td>False</td>\n",
       "      <td>False</td>\n",
       "      <td>False</td>\n",
       "      <td>False</td>\n",
       "      <td>False</td>\n",
       "      <td>False</td>\n",
       "      <td>False</td>\n",
       "      <td>False</td>\n",
       "      <td>False</td>\n",
       "      <td>True</td>\n",
       "      <td>True</td>\n",
       "      <td>False</td>\n",
       "      <td>False</td>\n",
       "      <td>True</td>\n",
       "      <td>False</td>\n",
       "      <td>False</td>\n",
       "      <td>False</td>\n",
       "      <td>False</td>\n",
       "      <td>False</td>\n",
       "      <td>False</td>\n",
       "      <td>False</td>\n",
       "      <td>False</td>\n",
       "      <td>False</td>\n",
       "      <td>False</td>\n",
       "      <td>False</td>\n",
       "      <td>False</td>\n",
       "      <td>False</td>\n",
       "      <td>False</td>\n",
       "      <td>False</td>\n",
       "      <td>False</td>\n",
       "      <td>False</td>\n",
       "      <td>False</td>\n",
       "      <td>False</td>\n",
       "      <td>False</td>\n",
       "      <td>False</td>\n",
       "      <td>False</td>\n",
       "      <td>True</td>\n",
       "      <td>False</td>\n",
       "      <td>False</td>\n",
       "      <td>False</td>\n",
       "      <td>False</td>\n",
       "      <td>False</td>\n",
       "      <td>False</td>\n",
       "      <td>False</td>\n",
       "      <td>False</td>\n",
       "      <td>False</td>\n",
       "      <td>False</td>\n",
       "      <td>False</td>\n",
       "    </tr>\n",
       "    <tr>\n",
       "      <th>9998</th>\n",
       "      <td>False</td>\n",
       "      <td>False</td>\n",
       "      <td>False</td>\n",
       "      <td>False</td>\n",
       "      <td>False</td>\n",
       "      <td>False</td>\n",
       "      <td>False</td>\n",
       "      <td>False</td>\n",
       "      <td>False</td>\n",
       "      <td>False</td>\n",
       "      <td>False</td>\n",
       "      <td>False</td>\n",
       "      <td>False</td>\n",
       "      <td>False</td>\n",
       "      <td>False</td>\n",
       "      <td>False</td>\n",
       "      <td>False</td>\n",
       "      <td>False</td>\n",
       "      <td>False</td>\n",
       "      <td>False</td>\n",
       "      <td>False</td>\n",
       "      <td>False</td>\n",
       "      <td>False</td>\n",
       "      <td>False</td>\n",
       "      <td>False</td>\n",
       "      <td>False</td>\n",
       "      <td>False</td>\n",
       "      <td>False</td>\n",
       "      <td>False</td>\n",
       "      <td>False</td>\n",
       "      <td>False</td>\n",
       "      <td>False</td>\n",
       "      <td>False</td>\n",
       "      <td>False</td>\n",
       "      <td>False</td>\n",
       "      <td>False</td>\n",
       "      <td>False</td>\n",
       "      <td>False</td>\n",
       "      <td>False</td>\n",
       "      <td>False</td>\n",
       "      <td>False</td>\n",
       "      <td>False</td>\n",
       "      <td>False</td>\n",
       "      <td>False</td>\n",
       "      <td>False</td>\n",
       "      <td>False</td>\n",
       "      <td>False</td>\n",
       "      <td>False</td>\n",
       "      <td>False</td>\n",
       "      <td>False</td>\n",
       "      <td>False</td>\n",
       "      <td>False</td>\n",
       "      <td>False</td>\n",
       "    </tr>\n",
       "    <tr>\n",
       "      <th>9999</th>\n",
       "      <td>False</td>\n",
       "      <td>False</td>\n",
       "      <td>False</td>\n",
       "      <td>False</td>\n",
       "      <td>False</td>\n",
       "      <td>False</td>\n",
       "      <td>False</td>\n",
       "      <td>False</td>\n",
       "      <td>False</td>\n",
       "      <td>False</td>\n",
       "      <td>False</td>\n",
       "      <td>False</td>\n",
       "      <td>False</td>\n",
       "      <td>False</td>\n",
       "      <td>False</td>\n",
       "      <td>False</td>\n",
       "      <td>False</td>\n",
       "      <td>False</td>\n",
       "      <td>True</td>\n",
       "      <td>False</td>\n",
       "      <td>False</td>\n",
       "      <td>False</td>\n",
       "      <td>False</td>\n",
       "      <td>False</td>\n",
       "      <td>False</td>\n",
       "      <td>False</td>\n",
       "      <td>True</td>\n",
       "      <td>False</td>\n",
       "      <td>False</td>\n",
       "      <td>False</td>\n",
       "      <td>False</td>\n",
       "      <td>False</td>\n",
       "      <td>False</td>\n",
       "      <td>False</td>\n",
       "      <td>False</td>\n",
       "      <td>False</td>\n",
       "      <td>False</td>\n",
       "      <td>False</td>\n",
       "      <td>False</td>\n",
       "      <td>False</td>\n",
       "      <td>False</td>\n",
       "      <td>False</td>\n",
       "      <td>False</td>\n",
       "      <td>False</td>\n",
       "      <td>False</td>\n",
       "      <td>False</td>\n",
       "      <td>False</td>\n",
       "      <td>False</td>\n",
       "      <td>False</td>\n",
       "      <td>False</td>\n",
       "      <td>False</td>\n",
       "      <td>False</td>\n",
       "      <td>False</td>\n",
       "    </tr>\n",
       "  </tbody>\n",
       "</table>\n",
       "<p>10000 rows × 53 columns</p>\n",
       "</div>"
      ],
      "text/plain": [
       "      Unnamed: 0  CaseOrder  Customer_id  Interaction   City  State  County  \\\n",
       "0          False      False        False        False  False  False   False   \n",
       "1          False      False        False        False  False  False   False   \n",
       "2          False      False        False        False  False  False   False   \n",
       "3          False      False        False        False  False  False   False   \n",
       "4          False      False        False        False  False  False   False   \n",
       "...          ...        ...          ...          ...    ...    ...     ...   \n",
       "9995       False      False        False        False  False  False   False   \n",
       "9996       False      False        False        False  False  False   False   \n",
       "9997       False      False        False        False  False  False   False   \n",
       "9998       False      False        False        False  False  False   False   \n",
       "9999       False      False        False        False  False  False   False   \n",
       "\n",
       "        Zip    Lat    Lng  Population   Area  Timezone    Job  Children  \\\n",
       "0     False  False  False       False  False     False  False      True   \n",
       "1     False  False  False       False  False     False  False     False   \n",
       "2     False  False  False       False  False     False  False     False   \n",
       "3     False  False  False       False  False     False  False     False   \n",
       "4     False  False  False       False  False     False  False     False   \n",
       "...     ...    ...    ...         ...    ...       ...    ...       ...   \n",
       "9995  False  False  False       False  False     False  False     False   \n",
       "9996  False  False  False       False  False     False  False     False   \n",
       "9997  False  False  False       False  False     False  False      True   \n",
       "9998  False  False  False       False  False     False  False     False   \n",
       "9999  False  False  False       False  False     False  False     False   \n",
       "\n",
       "        Age  Education  Employment  Income  Marital  Gender  Churn  \\\n",
       "0     False      False       False   False    False   False  False   \n",
       "1     False      False       False   False    False   False  False   \n",
       "2     False      False       False    True    False   False  False   \n",
       "3     False      False       False   False    False   False  False   \n",
       "4     False      False       False   False    False   False  False   \n",
       "...     ...        ...         ...     ...      ...     ...    ...   \n",
       "9995   True      False       False   False    False   False  False   \n",
       "9996  False      False       False    True    False   False  False   \n",
       "9997   True      False       False    True    False   False  False   \n",
       "9998  False      False       False   False    False   False  False   \n",
       "9999  False      False       False    True    False   False  False   \n",
       "\n",
       "      Outage_sec_perweek  Email  Contacts  Yearly_equip_failure  Techie  \\\n",
       "0                  False  False     False                 False   False   \n",
       "1                  False  False     False                 False   False   \n",
       "2                  False  False     False                 False   False   \n",
       "3                  False  False     False                 False   False   \n",
       "4                  False  False     False                 False   False   \n",
       "...                  ...    ...       ...                   ...     ...   \n",
       "9995               False  False     False                 False    True   \n",
       "9996               False  False     False                 False    True   \n",
       "9997               False  False     False                 False   False   \n",
       "9998               False  False     False                 False   False   \n",
       "9999               False  False     False                 False    True   \n",
       "\n",
       "      Contract  Port_modem  Tablet  InternetService  Phone  Multiple  \\\n",
       "0        False       False   False            False  False     False   \n",
       "1        False       False   False            False  False     False   \n",
       "2        False       False   False            False  False     False   \n",
       "3        False       False   False            False  False     False   \n",
       "4        False       False   False            False  False     False   \n",
       "...        ...         ...     ...              ...    ...       ...   \n",
       "9995     False       False   False            False   True     False   \n",
       "9996     False       False   False            False   True     False   \n",
       "9997     False       False   False            False  False     False   \n",
       "9998     False       False   False            False  False     False   \n",
       "9999     False       False   False            False  False     False   \n",
       "\n",
       "      OnlineSecurity  OnlineBackup  DeviceProtection  TechSupport  \\\n",
       "0              False         False             False        False   \n",
       "1              False         False             False        False   \n",
       "2              False         False             False        False   \n",
       "3              False         False             False        False   \n",
       "4              False         False             False        False   \n",
       "...              ...           ...               ...          ...   \n",
       "9995           False         False             False        False   \n",
       "9996           False         False             False        False   \n",
       "9997           False         False             False        False   \n",
       "9998           False         False             False        False   \n",
       "9999           False         False             False        False   \n",
       "\n",
       "      StreamingTV  StreamingMovies  PaperlessBilling  PaymentMethod  Tenure  \\\n",
       "0           False            False             False          False   False   \n",
       "1           False            False             False          False   False   \n",
       "2           False            False             False          False   False   \n",
       "3           False            False             False          False   False   \n",
       "4           False            False             False          False   False   \n",
       "...           ...              ...               ...            ...     ...   \n",
       "9995        False            False             False          False   False   \n",
       "9996        False            False             False          False   False   \n",
       "9997        False            False             False          False    True   \n",
       "9998        False            False             False          False   False   \n",
       "9999        False            False             False          False   False   \n",
       "\n",
       "      MonthlyCharge  Bandwidth_GB_Year  Timely_Respd  Timely_Fixes  \\\n",
       "0             False              False         False         False   \n",
       "1             False              False         False         False   \n",
       "2             False              False         False         False   \n",
       "3             False              False         False         False   \n",
       "4             False              False         False         False   \n",
       "...             ...                ...           ...           ...   \n",
       "9995          False              False         False         False   \n",
       "9996          False              False         False         False   \n",
       "9997          False              False         False         False   \n",
       "9998          False              False         False         False   \n",
       "9999          False              False         False         False   \n",
       "\n",
       "      Timely_Replc  Reliability  Options  Respect_Resp  Courteous_Exch  \\\n",
       "0            False        False    False         False           False   \n",
       "1            False        False    False         False           False   \n",
       "2            False        False    False         False           False   \n",
       "3            False        False    False         False           False   \n",
       "4            False        False    False         False           False   \n",
       "...            ...          ...      ...           ...             ...   \n",
       "9995         False        False    False         False           False   \n",
       "9996         False        False    False         False           False   \n",
       "9997         False        False    False         False           False   \n",
       "9998         False        False    False         False           False   \n",
       "9999         False        False    False         False           False   \n",
       "\n",
       "      Evidence_ActListen  Index  \n",
       "0                  False  False  \n",
       "1                  False  False  \n",
       "2                  False  False  \n",
       "3                  False  False  \n",
       "4                  False  False  \n",
       "...                  ...    ...  \n",
       "9995               False  False  \n",
       "9996               False  False  \n",
       "9997               False  False  \n",
       "9998               False  False  \n",
       "9999               False  False  \n",
       "\n",
       "[10000 rows x 53 columns]"
      ]
     },
     "execution_count": 11,
     "metadata": {},
     "output_type": "execute_result"
    }
   ],
   "source": [
    "#analyze the missing values.\n",
    "\n",
    "churn.isnull()"
   ]
  },
  {
   "cell_type": "code",
   "execution_count": 12,
   "id": "c1931937",
   "metadata": {},
   "outputs": [
    {
     "data": {
      "text/plain": [
       "Unnamed: 0                 0\n",
       "CaseOrder                  0\n",
       "Customer_id                0\n",
       "Interaction                0\n",
       "City                       0\n",
       "State                      0\n",
       "County                     0\n",
       "Zip                        0\n",
       "Lat                        0\n",
       "Lng                        0\n",
       "Population                 0\n",
       "Area                       0\n",
       "Timezone                   0\n",
       "Job                        0\n",
       "Children                2495\n",
       "Age                     2475\n",
       "Education                  0\n",
       "Employment                 0\n",
       "Income                  2490\n",
       "Marital                    0\n",
       "Gender                     0\n",
       "Churn                      0\n",
       "Outage_sec_perweek         0\n",
       "Email                      0\n",
       "Contacts                   0\n",
       "Yearly_equip_failure       0\n",
       "Techie                  2477\n",
       "Contract                   0\n",
       "Port_modem                 0\n",
       "Tablet                     0\n",
       "InternetService            0\n",
       "Phone                   1026\n",
       "Multiple                   0\n",
       "OnlineSecurity             0\n",
       "OnlineBackup               0\n",
       "DeviceProtection           0\n",
       "TechSupport              991\n",
       "StreamingTV                0\n",
       "StreamingMovies            0\n",
       "PaperlessBilling           0\n",
       "PaymentMethod              0\n",
       "Tenure                   931\n",
       "MonthlyCharge              0\n",
       "Bandwidth_GB_Year       1021\n",
       "Timely_Respd               0\n",
       "Timely_Fixes               0\n",
       "Timely_Replc               0\n",
       "Reliability                0\n",
       "Options                    0\n",
       "Respect_Resp               0\n",
       "Courteous_Exch             0\n",
       "Evidence_ActListen         0\n",
       "Index                      0\n",
       "dtype: int64"
      ]
     },
     "execution_count": 12,
     "metadata": {},
     "output_type": "execute_result"
    }
   ],
   "source": [
    "#find the total of the missing values\n",
    "\n",
    "churn.isnull().sum()"
   ]
  },
  {
   "cell_type": "code",
   "execution_count": 13,
   "id": "d9655d31",
   "metadata": {},
   "outputs": [
    {
     "data": {
      "text/plain": [
       "Unnamed: 0               0.00\n",
       "CaseOrder                0.00\n",
       "Customer_id              0.00\n",
       "Interaction              0.00\n",
       "City                     0.00\n",
       "State                    0.00\n",
       "County                   0.00\n",
       "Zip                      0.00\n",
       "Lat                      0.00\n",
       "Lng                      0.00\n",
       "Population               0.00\n",
       "Area                     0.00\n",
       "Timezone                 0.00\n",
       "Job                      0.00\n",
       "Children                24.95\n",
       "Age                     24.75\n",
       "Education                0.00\n",
       "Employment               0.00\n",
       "Income                  24.90\n",
       "Marital                  0.00\n",
       "Gender                   0.00\n",
       "Churn                    0.00\n",
       "Outage_sec_perweek       0.00\n",
       "Email                    0.00\n",
       "Contacts                 0.00\n",
       "Yearly_equip_failure     0.00\n",
       "Techie                  24.77\n",
       "Contract                 0.00\n",
       "Port_modem               0.00\n",
       "Tablet                   0.00\n",
       "InternetService          0.00\n",
       "Phone                   10.26\n",
       "Multiple                 0.00\n",
       "OnlineSecurity           0.00\n",
       "OnlineBackup             0.00\n",
       "DeviceProtection         0.00\n",
       "TechSupport              9.91\n",
       "StreamingTV              0.00\n",
       "StreamingMovies          0.00\n",
       "PaperlessBilling         0.00\n",
       "PaymentMethod            0.00\n",
       "Tenure                   9.31\n",
       "MonthlyCharge            0.00\n",
       "Bandwidth_GB_Year       10.21\n",
       "Timely_Respd             0.00\n",
       "Timely_Fixes             0.00\n",
       "Timely_Replc             0.00\n",
       "Reliability              0.00\n",
       "Options                  0.00\n",
       "Respect_Resp             0.00\n",
       "Courteous_Exch           0.00\n",
       "Evidence_ActListen       0.00\n",
       "Index                    0.00\n",
       "dtype: float64"
      ]
     },
     "execution_count": 13,
     "metadata": {},
     "output_type": "execute_result"
    }
   ],
   "source": [
    "#find the percentage of missing values\n",
    "\n",
    "churn.isnull().mean() * 100"
   ]
  },
  {
   "cell_type": "code",
   "execution_count": 14,
   "id": "19c6c5ca",
   "metadata": {},
   "outputs": [],
   "source": [
    "# locating values and volumes of outliers : \n",
    "#used IQR based on code to create a function from: https://careerfoundry.com/en/blog/data-analytics/how-to-find-outliers/\n",
    "def find_outliers(df, var):\n",
    "    q1 = df[var].quantile(0.25)\n",
    "    q3 = df[var].quantile(0.75)\n",
    "    IQR = q3 - q1\n",
    "    lowerbound = q1-(1.5*IQR)\n",
    "    upperbound = q3+(1.5*IQR)\n",
    "    outliers = df[var][((df[var] < (lowerbound)) | (df[var] > (upperbound)))]\n",
    "    return outliers"
   ]
  },
  {
   "cell_type": "code",
   "execution_count": 15,
   "id": "36e5dd97",
   "metadata": {},
   "outputs": [
    {
     "name": "stdout",
     "output_type": "stream",
     "text": [
      "number of outliers in Children: 302\n",
      "max outlier value: 10.0\n",
      "min outlier value: 8.0\n"
     ]
    }
   ],
   "source": [
    "#run the newly created function on each quantitative variable\n",
    "\n",
    "outliers = find_outliers(churn, 'Children')\n",
    "print(\"number of outliers in Children: \"+ str(len(outliers)))\n",
    "print(\"max outlier value: \"+ str(outliers.max()))\n",
    "print(\"min outlier value: \"+ str(outliers.min()))"
   ]
  },
  {
   "cell_type": "code",
   "execution_count": 16,
   "id": "21b881d9",
   "metadata": {},
   "outputs": [
    {
     "name": "stdout",
     "output_type": "stream",
     "text": [
      "number of outliers in Age: 0\n",
      "max outlier value: nan\n",
      "min outlier value: nan\n"
     ]
    }
   ],
   "source": [
    "outliers = find_outliers(churn, 'Age')\n",
    "print(\"number of outliers in Age: \"+ str(len(outliers)))\n",
    "print(\"max outlier value: \"+ str(outliers.max()))\n",
    "print(\"min outlier value: \"+ str(outliers.min()))"
   ]
  },
  {
   "cell_type": "code",
   "execution_count": 17,
   "id": "dc3e1912",
   "metadata": {},
   "outputs": [
    {
     "name": "stdout",
     "output_type": "stream",
     "text": [
      "number of outliers in Income: 249\n",
      "max outlier value: 258900.7\n",
      "min outlier value: 104867.5\n"
     ]
    }
   ],
   "source": [
    "outliers = find_outliers(churn,'Income')\n",
    "print(\"number of outliers in Income: \"+ str(len(outliers)))\n",
    "print(\"max outlier value: \"+ str(outliers.max()))\n",
    "print(\"min outlier value: \"+ str(outliers.min()))"
   ]
  },
  {
   "cell_type": "code",
   "execution_count": 21,
   "id": "0a93753c",
   "metadata": {},
   "outputs": [
    {
     "name": "stdout",
     "output_type": "stream",
     "text": [
      "number of outliers in Population: 937\n",
      "max outlier value: 111850\n",
      "min outlier value: 31816\n"
     ]
    }
   ],
   "source": [
    "outliers = find_outliers(churn, 'Population')\n",
    "print(\"number of outliers in Population: \"+ str(len(outliers)))\n",
    "print(\"max outlier value: \"+ str(outliers.max()))\n",
    "print(\"min outlier value: \"+ str(outliers.min()))"
   ]
  },
  {
   "cell_type": "code",
   "execution_count": 22,
   "id": "cd4b356e",
   "metadata": {},
   "outputs": [
    {
     "name": "stdout",
     "output_type": "stream",
     "text": [
      "number of outliers in MonthlyCharge: 5\n",
      "max outlier value: 315.8786\n",
      "min outlier value: 298.1730235\n"
     ]
    }
   ],
   "source": [
    "outliers = find_outliers(churn, 'MonthlyCharge')\n",
    "print(\"number of outliers in MonthlyCharge: \"+ str(len(outliers)))\n",
    "print(\"max outlier value: \"+ str(outliers.max()))\n",
    "print(\"min outlier value: \"+ str(outliers.min()))"
   ]
  },
  {
   "cell_type": "code",
   "execution_count": 23,
   "id": "61de0697",
   "metadata": {},
   "outputs": [
    {
     "name": "stdout",
     "output_type": "stream",
     "text": [
      "number of outliers in Email: 38\n",
      "max outlier value: 23\n",
      "min outlier value: 1\n"
     ]
    }
   ],
   "source": [
    "outliers = find_outliers(churn, 'Email')\n",
    "print(\"number of outliers in Email: \"+ str(len(outliers)))\n",
    "print(\"max outlier value: \"+ str(outliers.max()))\n",
    "print(\"min outlier value: \"+ str(outliers.min()))"
   ]
  },
  {
   "cell_type": "code",
   "execution_count": 24,
   "id": "c42ff954",
   "metadata": {},
   "outputs": [
    {
     "name": "stdout",
     "output_type": "stream",
     "text": [
      "number of outliers in Tenure: 0\n",
      "max outlier value: nan\n",
      "min outlier value: nan\n"
     ]
    }
   ],
   "source": [
    "outliers = find_outliers(churn, 'Tenure')\n",
    "print(\"number of outliers in Tenure: \"+ str(len(outliers)))\n",
    "print(\"max outlier value: \"+ str(outliers.max()))\n",
    "print(\"min outlier value: \"+ str(outliers.min()))"
   ]
  },
  {
   "cell_type": "code",
   "execution_count": 25,
   "id": "1d9df74e",
   "metadata": {},
   "outputs": [
    {
     "name": "stdout",
     "output_type": "stream",
     "text": [
      "number of outliers in Bandwidth GB per Year: 0\n",
      "max outlier value: nan\n",
      "min outlier value: nan\n"
     ]
    }
   ],
   "source": [
    "outliers = find_outliers(churn, 'Bandwidth_GB_Year')\n",
    "print(\"number of outliers in Bandwidth GB per Year: \"+ str(len(outliers)))\n",
    "print(\"max outlier value: \"+ str(outliers.max()))\n",
    "print(\"min outlier value: \"+ str(outliers.min()))"
   ]
  },
  {
   "cell_type": "code",
   "execution_count": 26,
   "id": "3c1dea2b",
   "metadata": {},
   "outputs": [
    {
     "name": "stdout",
     "output_type": "stream",
     "text": [
      "number of outliers in Outage seconds per week: 539\n",
      "max outlier value: 47.04928\n",
      "min outlier value: -1.348571\n"
     ]
    }
   ],
   "source": [
    "outliers = find_outliers(churn, 'Outage_sec_perweek')\n",
    "print(\"number of outliers in Outage seconds per week: \"+ str(len(outliers)))\n",
    "print(\"max outlier value: \"+ str(outliers.max()))\n",
    "print(\"min outlier value: \"+ str(outliers.min()))"
   ]
  },
  {
   "cell_type": "code",
   "execution_count": 27,
   "id": "7ef1ae8e",
   "metadata": {},
   "outputs": [
    {
     "name": "stdout",
     "output_type": "stream",
     "text": [
      "number of outliers in Yearly equipment failure: 94\n",
      "max outlier value: 6\n",
      "min outlier value: 3\n"
     ]
    }
   ],
   "source": [
    "outliers = find_outliers(churn, 'Yearly_equip_failure')\n",
    "print(\"number of outliers in Yearly equipment failure: \"+ str(len(outliers)))\n",
    "print(\"max outlier value: \"+ str(outliers.max()))\n",
    "print(\"min outlier value: \"+ str(outliers.min()))"
   ]
  },
  {
   "cell_type": "code",
   "execution_count": 28,
   "id": "1a4cc253",
   "metadata": {},
   "outputs": [
    {
     "name": "stdout",
     "output_type": "stream",
     "text": [
      "number of outliers in Contacts: 8\n",
      "max outlier value: 7\n",
      "min outlier value: 6\n"
     ]
    }
   ],
   "source": [
    "outliers = find_outliers(churn, 'Contacts')\n",
    "print(\"number of outliers in Contacts: \"+ str(len(outliers)))\n",
    "print(\"max outlier value: \"+ str(outliers.max()))\n",
    "print(\"min outlier value: \"+ str(outliers.min()))"
   ]
  },
  {
   "cell_type": "code",
   "execution_count": 29,
   "id": "b38dcaee",
   "metadata": {},
   "outputs": [],
   "source": [
    "#treat the inherent missing values/data anomalies as noted during detection stage. \n",
    "churn.Population = churn.Population.replace(0, np.nan)\n",
    "churn.Outage_sec_perweek = np.where(churn.Outage_sec_perweek < 0, \n",
    "                                    np.nan, churn.Outage_sec_perweek)"
   ]
  },
  {
   "cell_type": "code",
   "execution_count": 30,
   "id": "c29d747b",
   "metadata": {},
   "outputs": [
    {
     "data": {
      "text/plain": [
       "Unnamed: 0                 0\n",
       "CaseOrder                  0\n",
       "Customer_id                0\n",
       "Interaction                0\n",
       "City                       0\n",
       "State                      0\n",
       "County                     0\n",
       "Zip                        0\n",
       "Lat                        0\n",
       "Lng                        0\n",
       "Population                97\n",
       "Area                       0\n",
       "Timezone                   0\n",
       "Job                        0\n",
       "Children                2495\n",
       "Age                     2475\n",
       "Education                  0\n",
       "Employment                 0\n",
       "Income                  2490\n",
       "Marital                    0\n",
       "Gender                     0\n",
       "Churn                      0\n",
       "Outage_sec_perweek        11\n",
       "Email                      0\n",
       "Contacts                   0\n",
       "Yearly_equip_failure       0\n",
       "Techie                  2477\n",
       "Contract                   0\n",
       "Port_modem                 0\n",
       "Tablet                     0\n",
       "InternetService            0\n",
       "Phone                   1026\n",
       "Multiple                   0\n",
       "OnlineSecurity             0\n",
       "OnlineBackup               0\n",
       "DeviceProtection           0\n",
       "TechSupport              991\n",
       "StreamingTV                0\n",
       "StreamingMovies            0\n",
       "PaperlessBilling           0\n",
       "PaymentMethod              0\n",
       "Tenure                   931\n",
       "MonthlyCharge              0\n",
       "Bandwidth_GB_Year       1021\n",
       "Timely_Respd               0\n",
       "Timely_Fixes               0\n",
       "Timely_Replc               0\n",
       "Reliability                0\n",
       "Options                    0\n",
       "Respect_Resp               0\n",
       "Courteous_Exch             0\n",
       "Evidence_ActListen         0\n",
       "Index                      0\n",
       "dtype: int64"
      ]
     },
     "execution_count": 30,
     "metadata": {},
     "output_type": "execute_result"
    }
   ],
   "source": [
    "#visualize and treat missing data.\n",
    "churn.isnull().sum()"
   ]
  },
  {
   "cell_type": "code",
   "execution_count": 31,
   "id": "0193dbc6",
   "metadata": {},
   "outputs": [
    {
     "data": {
      "image/png": "[encoded data removed]",
      "text/plain": [
       "<Figure size 1800x720 with 2 Axes>"
      ]
     },
     "metadata": {
      "needs_background": "light"
     },
     "output_type": "display_data"
    }
   ],
   "source": [
    "#use the missingno matrix, \n",
    "\n",
    "msno.matrix(churn, fontsize = 12, labels=True)\n",
    "plt.title('Missing Matrix')\n",
    "plt.show()"
   ]
  },
  {
   "cell_type": "code",
   "execution_count": 32,
   "id": "dfc50672",
   "metadata": {},
   "outputs": [
    {
     "data": {
      "image/png": "[encoded data removed]",
      "text/plain": [
       "<Figure size 1800x720 with 2 Axes>"
      ]
     },
     "metadata": {
      "needs_background": "light"
     },
     "output_type": "display_data"
    }
   ],
   "source": [
    "#sorting to detect what type of missing data.\n",
    "\n",
    "sorted = churn.sort_values('Children')\n",
    "msno.matrix(sorted, fontsize = 12, labels=True)\n",
    "plt.show()"
   ]
  },
  {
   "cell_type": "code",
   "execution_count": 33,
   "id": "88fdeccf",
   "metadata": {},
   "outputs": [
    {
     "data": {
      "image/png": "[encoded data removed]",
      "text/plain": [
       "<Figure size 1440x864 with 2 Axes>"
      ]
     },
     "metadata": {
      "needs_background": "light"
     },
     "output_type": "display_data"
    }
   ],
   "source": [
    "#visualizing the correlation between the missing values. \n",
    "\n",
    "msno.heatmap(churn)\n",
    "plt.show()"
   ]
  },
  {
   "cell_type": "code",
   "execution_count": 34,
   "id": "c62073c2",
   "metadata": {},
   "outputs": [],
   "source": [
    "# deletion of Population/ Outage seconds per week rows with missing values due to MCAR, % < 5%\n",
    "churn.dropna(subset=['Population'], how='all', inplace=True)\n",
    "churn.dropna(subset=['Outage_sec_perweek'], how='all', inplace=True)"
   ]
  },
  {
   "cell_type": "code",
   "execution_count": 35,
   "id": "a6656b60",
   "metadata": {},
   "outputs": [
    {
     "data": {
      "image/png": "[encoded data removed]",
      "text/plain": [
       "<Figure size 1800x720 with 2 Axes>"
      ]
     },
     "metadata": {
      "needs_background": "light"
     },
     "output_type": "display_data"
    }
   ],
   "source": [
    "#visualizing this change.\n",
    "msno.matrix(churn, fontsize = 12, labels=True)\n",
    "plt.show()"
   ]
  },
  {
   "cell_type": "code",
   "execution_count": 36,
   "id": "c8ee07a9",
   "metadata": {},
   "outputs": [
    {
     "data": {
      "image/png": "[encoded data removed]",
      "text/plain": [
       "<Figure size 432x288 with 1 Axes>"
      ]
     },
     "metadata": {
      "needs_background": "light"
     },
     "output_type": "display_data"
    },
    {
     "data": {
      "image/png": "[encoded data removed]",
      "text/plain": [
       "<Figure size 432x288 with 1 Axes>"
      ]
     },
     "metadata": {
      "needs_background": "light"
     },
     "output_type": "display_data"
    },
    {
     "data": {
      "image/png": "[encoded data removed]",
      "text/plain": [
       "<Figure size 432x288 with 1 Axes>"
      ]
     },
     "metadata": {
      "needs_background": "light"
     },
     "output_type": "display_data"
    },
    {
     "data": {
      "image/png": "[encoded data removed]",
      "text/plain": [
       "<Figure size 432x288 with 1 Axes>"
      ]
     },
     "metadata": {
      "needs_background": "light"
     },
     "output_type": "display_data"
    },
    {
     "data": {
      "image/png": "[encoded data removed]",
      "text/plain": [
       "<Figure size 432x288 with 1 Axes>"
      ]
     },
     "metadata": {
      "needs_background": "light"
     },
     "output_type": "display_data"
    }
   ],
   "source": [
    "# create a histogram of each quantitative variables that have missing data to examine distrubition shapes. \n",
    "\n",
    "plt.hist(churn.Children)\n",
    "plt.title('Children')\n",
    "plt.show()\n",
    "plt.hist(churn.Age)\n",
    "plt.title('Age')\n",
    "plt.show()\n",
    "plt.hist(churn.Income)\n",
    "plt.title('Income')\n",
    "plt.show()\n",
    "plt.hist(churn.Tenure)\n",
    "plt.title('Tenure')\n",
    "plt.show()\n",
    "plt.hist(churn.Bandwidth_GB_Year)\n",
    "plt.title('Bandwidth_GB_Year')\n",
    "plt.show()"
   ]
  },
  {
   "cell_type": "code",
   "execution_count": 37,
   "id": "804f0bf1",
   "metadata": {},
   "outputs": [],
   "source": [
    "#using univariate imputation to fill missing data.\n",
    "#using mean for normal distro, median for skewed, mode for qualitative/categorical\n",
    "churn.Children.fillna(churn.Children.median(), inplace=True)\n",
    "churn.Age.fillna(churn.Age.median(), inplace=True)\n",
    "churn.Income.fillna(churn.Income.median(), inplace=True)\n",
    "churn.Tenure.fillna(churn.Tenure.median(), inplace=True)\n",
    "churn.Bandwidth_GB_Year.fillna(churn.Bandwidth_GB_Year.median(), inplace=True)\n",
    "\n",
    "#categorical use the mode for missing values\n",
    "churn.TechSupport = churn.TechSupport.fillna(churn.TechSupport.mode()[0])\n",
    "churn.Techie = churn.Techie.fillna(churn.Techie.mode()[0])\n",
    "churn.Phone = churn.Phone.fillna(churn.Phone.mode()[0])"
   ]
  },
  {
   "cell_type": "code",
   "execution_count": 38,
   "id": "53c0223b",
   "metadata": {},
   "outputs": [
    {
     "data": {
      "text/plain": [
       "Unnamed: 0              0\n",
       "CaseOrder               0\n",
       "Customer_id             0\n",
       "Interaction             0\n",
       "City                    0\n",
       "State                   0\n",
       "County                  0\n",
       "Zip                     0\n",
       "Lat                     0\n",
       "Lng                     0\n",
       "Population              0\n",
       "Area                    0\n",
       "Timezone                0\n",
       "Job                     0\n",
       "Children                0\n",
       "Age                     0\n",
       "Education               0\n",
       "Employment              0\n",
       "Income                  0\n",
       "Marital                 0\n",
       "Gender                  0\n",
       "Churn                   0\n",
       "Outage_sec_perweek      0\n",
       "Email                   0\n",
       "Contacts                0\n",
       "Yearly_equip_failure    0\n",
       "Techie                  0\n",
       "Contract                0\n",
       "Port_modem              0\n",
       "Tablet                  0\n",
       "InternetService         0\n",
       "Phone                   0\n",
       "Multiple                0\n",
       "OnlineSecurity          0\n",
       "OnlineBackup            0\n",
       "DeviceProtection        0\n",
       "TechSupport             0\n",
       "StreamingTV             0\n",
       "StreamingMovies         0\n",
       "PaperlessBilling        0\n",
       "PaymentMethod           0\n",
       "Tenure                  0\n",
       "MonthlyCharge           0\n",
       "Bandwidth_GB_Year       0\n",
       "Timely_Respd            0\n",
       "Timely_Fixes            0\n",
       "Timely_Replc            0\n",
       "Reliability             0\n",
       "Options                 0\n",
       "Respect_Resp            0\n",
       "Courteous_Exch          0\n",
       "Evidence_ActListen      0\n",
       "Index                   0\n",
       "dtype: int64"
      ]
     },
     "execution_count": 38,
     "metadata": {},
     "output_type": "execute_result"
    }
   ],
   "source": [
    "#rerun the isnull to ensure all the missing data is resolved.\n",
    "\n",
    "churn.isnull().sum()"
   ]
  },
  {
   "cell_type": "code",
   "execution_count": 39,
   "id": "5a584271",
   "metadata": {},
   "outputs": [
    {
     "data": {
      "image/png": "[encoded data removed]",
      "text/plain": [
       "<Figure size 432x288 with 1 Axes>"
      ]
     },
     "metadata": {
      "needs_background": "light"
     },
     "output_type": "display_data"
    },
    {
     "data": {
      "image/png": "[encoded data removed]",
      "text/plain": [
       "<Figure size 432x288 with 1 Axes>"
      ]
     },
     "metadata": {
      "needs_background": "light"
     },
     "output_type": "display_data"
    },
    {
     "data": {
      "image/png": "[encoded data removed]",
      "text/plain": [
       "<Figure size 432x288 with 1 Axes>"
      ]
     },
     "metadata": {
      "needs_background": "light"
     },
     "output_type": "display_data"
    },
    {
     "data": {
      "image/png": "[encoded data removed]",
      "text/plain": [
       "<Figure size 432x288 with 1 Axes>"
      ]
     },
     "metadata": {
      "needs_background": "light"
     },
     "output_type": "display_data"
    },
    {
     "data": {
      "image/png": "[encoded data removed]",
      "text/plain": [
       "<Figure size 432x288 with 1 Axes>"
      ]
     },
     "metadata": {
      "needs_background": "light"
     },
     "output_type": "display_data"
    }
   ],
   "source": [
    "#reshowing the distrubitions to make sure that the distribution types have not changed.\n",
    "plt.hist(churn.Children)\n",
    "plt.title('Children')\n",
    "plt.show()\n",
    "plt.hist(churn.Age)\n",
    "plt.title('Age')\n",
    "plt.show()\n",
    "plt.hist(churn.Income)\n",
    "plt.title('Income')\n",
    "plt.show()\n",
    "plt.hist(churn.Tenure)\n",
    "plt.title('Tenure')\n",
    "plt.show()\n",
    "plt.hist(churn.Bandwidth_GB_Year)\n",
    "plt.title('Bandwidth_GB_Year')\n",
    "plt.show()"
   ]
  },
  {
   "cell_type": "code",
   "execution_count": 40,
   "id": "28905e85",
   "metadata": {},
   "outputs": [
    {
     "data": {
      "text/plain": [
       "(9892, 53)"
      ]
     },
     "execution_count": 40,
     "metadata": {},
     "output_type": "execute_result"
    }
   ],
   "source": [
    "#treat my outliers, first view the shape of the dataframe\n",
    "churn.shape"
   ]
  },
  {
   "cell_type": "code",
   "execution_count": 41,
   "id": "1a283675",
   "metadata": {},
   "outputs": [
    {
     "data": {
      "image/png": "[encoded data removed]",
      "text/plain": [
       "<Figure size 432x288 with 1 Axes>"
      ]
     },
     "metadata": {
      "needs_background": "light"
     },
     "output_type": "display_data"
    },
    {
     "data": {
      "image/png": "[encoded data removed]",
      "text/plain": [
       "<Figure size 432x288 with 1 Axes>"
      ]
     },
     "metadata": {
      "needs_background": "light"
     },
     "output_type": "display_data"
    },
    {
     "data": {
      "image/png": "[encoded data removed]",
      "text/plain": [
       "<Figure size 432x288 with 1 Axes>"
      ]
     },
     "metadata": {
      "needs_background": "light"
     },
     "output_type": "display_data"
    },
    {
     "data": {
      "image/png": "[encoded data removed]",
      "text/plain": [
       "<Figure size 432x288 with 1 Axes>"
      ]
     },
     "metadata": {
      "needs_background": "light"
     },
     "output_type": "display_data"
    },
    {
     "data": {
      "image/png": "[encoded data removed]",
      "text/plain": [
       "<Figure size 432x288 with 1 Axes>"
      ]
     },
     "metadata": {
      "needs_background": "light"
     },
     "output_type": "display_data"
    },
    {
     "data": {
      "image/png": "[encoded data removed]",
      "text/plain": [
       "<Figure size 432x288 with 1 Axes>"
      ]
     },
     "metadata": {
      "needs_background": "light"
     },
     "output_type": "display_data"
    },
    {
     "data": {
      "image/png": "[encoded data removed]",
      "text/plain": [
       "<Figure size 432x288 with 1 Axes>"
      ]
     },
     "metadata": {
      "needs_background": "light"
     },
     "output_type": "display_data"
    },
    {
     "data": {
      "image/png": "[encoded data removed]",
      "text/plain": [
       "<Figure size 432x288 with 1 Axes>"
      ]
     },
     "metadata": {
      "needs_background": "light"
     },
     "output_type": "display_data"
    },
    {
     "data": {
      "image/png": "[encoded data removed]",
      "text/plain": [
       "<Figure size 432x288 with 1 Axes>"
      ]
     },
     "metadata": {
      "needs_background": "light"
     },
     "output_type": "display_data"
    },
    {
     "data": {
      "image/png": "[encoded data removed]",
      "text/plain": [
       "<Figure size 432x288 with 1 Axes>"
      ]
     },
     "metadata": {
      "needs_background": "light"
     },
     "output_type": "display_data"
    },
    {
     "data": {
      "image/png": "[encoded data removed]",
      "text/plain": [
       "<Figure size 432x288 with 1 Axes>"
      ]
     },
     "metadata": {
      "needs_background": "light"
     },
     "output_type": "display_data"
    }
   ],
   "source": [
    "#boxplot all of the quantative variables.\n",
    "\n",
    "boxplot=sns.boxplot(x='Population',data=churn)\n",
    "plt.show()\n",
    "boxplot=sns.boxplot(x='Age',data=churn)\n",
    "plt.show()\n",
    "boxplot=sns.boxplot(x='Children',data=churn)\n",
    "plt.show()\n",
    "boxplot=sns.boxplot(x='Email',data=churn)\n",
    "plt.show()\n",
    "boxplot=sns.boxplot(x='Contacts',data=churn)\n",
    "plt.show()\n",
    "boxplot=sns.boxplot(x='Tenure',data=churn)\n",
    "plt.show()\n",
    "boxplot=sns.boxplot(x='MonthlyCharge',data=churn)\n",
    "plt.show()\n",
    "boxplot=sns.boxplot(x='Income',data=churn)\n",
    "plt.show()\n",
    "boxplot=sns.boxplot(x='Yearly_equip_failure',data=churn)\n",
    "plt.show()\n",
    "boxplot=sns.boxplot(x='Bandwidth_GB_Year',data=churn)\n",
    "plt.show()\n",
    "boxplot=sns.boxplot(x='Outage_sec_perweek',data=churn)\n",
    "plt.show()"
   ]
  },
  {
   "cell_type": "code",
   "execution_count": 42,
   "id": "1aecab12",
   "metadata": {},
   "outputs": [],
   "source": [
    "def find_boundary(df, var):\n",
    "    Q1 = df[var].quantile(0.25)\n",
    "    Q3 = df[var].quantile(0.75)\n",
    "    IQR = Q3-Q1\n",
    "    lower = Q1-(1.5*IQR)\n",
    "    upper = Q3+(1.5*IQR)\n",
    "    return lower , upper"
   ]
  },
  {
   "cell_type": "code",
   "execution_count": 43,
   "id": "ec85ff19",
   "metadata": {},
   "outputs": [
    {
     "name": "stdout",
     "output_type": "stream",
     "text": [
      "Upper limit for population is 32096.125\n",
      "Lower limit for population is -18016.875\n"
     ]
    }
   ],
   "source": [
    "lower_pop, upper_pop = find_boundary(churn, 'Population' )\n",
    "print(\"Upper limit for population is\" , upper_pop)\n",
    "print(\"Lower limit for population is\" , lower_pop)\n",
    "churn.Population = np.where(churn.Population > upper_pop, upper_pop,\n",
    "                               np.where(churn.Population < lower_pop, lower_pop, churn.Population))"
   ]
  },
  {
   "cell_type": "code",
   "execution_count": 44,
   "id": "fcd72c07",
   "metadata": {},
   "outputs": [
    {
     "name": "stdout",
     "output_type": "stream",
     "text": [
      "Upper limit for email is 20.0\n",
      "Lower limit for email is 4.0\n"
     ]
    }
   ],
   "source": [
    "lower_eml, upper_eml = find_boundary(churn, 'Email')\n",
    "print(\"Upper limit for email is\" , upper_eml)\n",
    "print(\"Lower limit for email is\" , lower_eml)\n",
    "churn.Email = np.where(churn.Email > upper_eml, upper_eml,\n",
    "                               np.where(churn.Email < lower_eml, lower_eml, churn.Email))"
   ]
  },
  {
   "cell_type": "code",
   "execution_count": 45,
   "id": "afd54d46",
   "metadata": {},
   "outputs": [
    {
     "name": "stdout",
     "output_type": "stream",
     "text": [
      "Upper limit for contacts is 5.0\n",
      "Lower limit for contacts is -3.0\n"
     ]
    }
   ],
   "source": [
    "lower_contct, upper_contct = find_boundary(churn, 'Contacts')\n",
    "print(\"Upper limit for contacts is\" , upper_contct)\n",
    "print(\"Lower limit for contacts is\" , lower_contct)\n",
    "churn.Contacts = np.where(churn.Contacts > upper_contct, upper_contct,\n",
    "                               np.where(churn.Contacts < lower_contct, lower_contct, churn.Contacts))"
   ]
  },
  {
   "cell_type": "code",
   "execution_count": 46,
   "id": "3ce0be40",
   "metadata": {},
   "outputs": [
    {
     "name": "stdout",
     "output_type": "stream",
     "text": [
      "Upper limit for MonthlyCharge is 297.81091268750004\n",
      "Lower limit for MonthlyCharge is 47.20501238749998\n"
     ]
    }
   ],
   "source": [
    "lower_mc, upper_mc = find_boundary(churn, 'MonthlyCharge')\n",
    "print(\"Upper limit for MonthlyCharge is\" , upper_mc)\n",
    "print(\"Lower limit for MonthlyCharge is\" , lower_mc)\n",
    "churn.MonthlyCharge = np.where(churn.MonthlyCharge > upper_mc, upper_mc,\n",
    "                               np.where(churn.MonthlyCharge < lower_mc, lower_mc, churn.MonthlyCharge))\n"
   ]
  },
  {
   "cell_type": "code",
   "execution_count": 47,
   "id": "04111651",
   "metadata": {},
   "outputs": [
    {
     "name": "stdout",
     "output_type": "stream",
     "text": [
      "Upper limit for Income is 78175.04375\n",
      "Lower limit for Income is -9089.386249999996\n"
     ]
    }
   ],
   "source": [
    "lower_inc, upper_inc = find_boundary(churn, 'Income')\n",
    "print(\"Upper limit for Income is\" , upper_inc)\n",
    "print(\"Lower limit for Income is\" , lower_inc)\n",
    "churn.Income = np.where(churn.Income > upper_inc, upper_inc,\n",
    "                               np.where(churn.Income < lower_inc, lower_inc, churn.Income))\n"
   ]
  },
  {
   "cell_type": "code",
   "execution_count": 48,
   "id": "96642684",
   "metadata": {},
   "outputs": [
    {
     "name": "stdout",
     "output_type": "stream",
     "text": [
      "Upper limit for Yearly_equip_failure is 2.5\n",
      "Lower limit for Yearly_equip_failure is -1.5\n"
     ]
    }
   ],
   "source": [
    "lower_yef, upper_yef = find_boundary(churn, 'Yearly_equip_failure')\n",
    "print(\"Upper limit for Yearly_equip_failure is\" , upper_yef)\n",
    "print(\"Lower limit for Yearly_equip_failure is\" , lower_yef)\n",
    "churn.Yearly_equip_failure = np.where(churn.Yearly_equip_failure > upper_yef, upper_yef,\n",
    "                               np.where(churn.Yearly_equip_failure < lower_yef, lower_yef, churn.Yearly_equip_failure))\n"
   ]
  },
  {
   "cell_type": "code",
   "execution_count": 49,
   "id": "fb400ddf",
   "metadata": {},
   "outputs": [
    {
     "name": "stdout",
     "output_type": "stream",
     "text": [
      "Upper limit for Outage_sec_perweek is 19.14157157575\n",
      "Lower limit for Outage_sec_perweek is 1.4259273737500004\n"
     ]
    }
   ],
   "source": [
    "lower_osp, upper_osp = find_boundary(churn, 'Outage_sec_perweek')\n",
    "print(\"Upper limit for Outage_sec_perweek is\" , upper_osp)\n",
    "print(\"Lower limit for Outage_sec_perweek is\" , lower_osp)\n",
    "churn.Outage_sec_perweek = np.where(churn.Outage_sec_perweek > upper_osp, upper_osp,\n",
    "                               np.where(churn.Outage_sec_perweek < lower_osp, lower_osp, churn.Outage_sec_perweek))\n"
   ]
  },
  {
   "cell_type": "code",
   "execution_count": 50,
   "id": "4f1d6ca5",
   "metadata": {},
   "outputs": [
    {
     "name": "stdout",
     "output_type": "stream",
     "text": [
      "Upper limit for children is 6.0\n",
      "Lower limit for children is -2.0\n"
     ]
    }
   ],
   "source": [
    "lower_kid, upper_kid = find_boundary(churn, 'Children')\n",
    "print(\"Upper limit for children is\" , upper_kid)\n",
    "print(\"Lower limit for children is\" , lower_kid)\n",
    "churn.Children = np.where(churn.Children > upper_kid, upper_kid,\n",
    "                               np.where(churn.Children < lower_kid, lower_kid, churn.Children))"
   ]
  },
  {
   "cell_type": "code",
   "execution_count": 51,
   "id": "b9c884c7",
   "metadata": {},
   "outputs": [
    {
     "data": {
      "image/png": "[encoded data removed]",
      "text/plain": [
       "<Figure size 432x288 with 1 Axes>"
      ]
     },
     "metadata": {
      "needs_background": "light"
     },
     "output_type": "display_data"
    },
    {
     "data": {
      "image/png": "[encoded data removed]",
      "text/plain": [
       "<Figure size 432x288 with 1 Axes>"
      ]
     },
     "metadata": {
      "needs_background": "light"
     },
     "output_type": "display_data"
    },
    {
     "data": {
      "image/png": "[encoded data removed]",
      "text/plain": [
       "<Figure size 432x288 with 1 Axes>"
      ]
     },
     "metadata": {
      "needs_background": "light"
     },
     "output_type": "display_data"
    },
    {
     "data": {
      "image/png": "[encoded data removed]",
      "text/plain": [
       "<Figure size 432x288 with 1 Axes>"
      ]
     },
     "metadata": {
      "needs_background": "light"
     },
     "output_type": "display_data"
    },
    {
     "data": {
      "image/png": "[encoded data removed]",
      "text/plain": [
       "<Figure size 432x288 with 1 Axes>"
      ]
     },
     "metadata": {
      "needs_background": "light"
     },
     "output_type": "display_data"
    },
    {
     "data": {
      "image/png": "[encoded data removed]",
      "text/plain": [
       "<Figure size 432x288 with 1 Axes>"
      ]
     },
     "metadata": {
      "needs_background": "light"
     },
     "output_type": "display_data"
    },
    {
     "data": {
      "image/png": "[encoded data removed]",
      "text/plain": [
       "<Figure size 432x288 with 1 Axes>"
      ]
     },
     "metadata": {
      "needs_background": "light"
     },
     "output_type": "display_data"
    },
    {
     "data": {
      "image/png": "[encoded data removed]",
      "text/plain": [
       "<Figure size 432x288 with 1 Axes>"
      ]
     },
     "metadata": {
      "needs_background": "light"
     },
     "output_type": "display_data"
    },
    {
     "data": {
      "image/png": "[encoded data removed]",
      "text/plain": [
       "<Figure size 432x288 with 1 Axes>"
      ]
     },
     "metadata": {
      "needs_background": "light"
     },
     "output_type": "display_data"
    },
    {
     "data": {
      "image/png": "[encoded data removed]",
      "text/plain": [
       "<Figure size 432x288 with 1 Axes>"
      ]
     },
     "metadata": {
      "needs_background": "light"
     },
     "output_type": "display_data"
    },
    {
     "data": {
      "image/png": "[encoded data removed]",
      "text/plain": [
       "<Figure size 432x288 with 1 Axes>"
      ]
     },
     "metadata": {
      "needs_background": "light"
     },
     "output_type": "display_data"
    }
   ],
   "source": [
    "boxplot=sns.boxplot(x='Population',data=churn)\n",
    "plt.show()\n",
    "boxplot=sns.boxplot(x='Age',data=churn)\n",
    "plt.show()\n",
    "boxplot=sns.boxplot(x='Children',data=churn)\n",
    "plt.show()\n",
    "boxplot=sns.boxplot(x='Email',data=churn)\n",
    "plt.show()\n",
    "boxplot=sns.boxplot(x='Contacts',data=churn)\n",
    "plt.show()\n",
    "boxplot=sns.boxplot(x='Tenure',data=churn)\n",
    "plt.show()\n",
    "boxplot=sns.boxplot(x='MonthlyCharge',data=churn)\n",
    "plt.show()\n",
    "boxplot=sns.boxplot(x='Income',data=churn)\n",
    "plt.show()\n",
    "boxplot=sns.boxplot(x='Yearly_equip_failure',data=churn)\n",
    "plt.show()\n",
    "boxplot=sns.boxplot(x='Bandwidth_GB_Year',data=churn)\n",
    "plt.show()\n",
    "boxplot=sns.boxplot(x='Outage_sec_perweek',data=churn)\n",
    "plt.show()"
   ]
  },
  {
   "cell_type": "code",
   "execution_count": 52,
   "id": "8670da46",
   "metadata": {},
   "outputs": [
    {
     "data": {
      "text/plain": [
       "(9892, 53)"
      ]
     },
     "execution_count": 52,
     "metadata": {},
     "output_type": "execute_result"
    }
   ],
   "source": [
    "churn.shape"
   ]
  },
  {
   "cell_type": "code",
   "execution_count": 53,
   "id": "e2616416",
   "metadata": {},
   "outputs": [
    {
     "name": "stdout",
     "output_type": "stream",
     "text": [
      "<class 'pandas.core.frame.DataFrame'>\n",
      "Int64Index: 9892 entries, 0 to 9999\n",
      "Data columns (total 53 columns):\n",
      " #   Column                Non-Null Count  Dtype  \n",
      "---  ------                --------------  -----  \n",
      " 0   Unnamed: 0            9892 non-null   int64  \n",
      " 1   CaseOrder             9892 non-null   int64  \n",
      " 2   Customer_id           9892 non-null   object \n",
      " 3   Interaction           9892 non-null   object \n",
      " 4   City                  9892 non-null   object \n",
      " 5   State                 9892 non-null   object \n",
      " 6   County                9892 non-null   object \n",
      " 7   Zip                   9892 non-null   int64  \n",
      " 8   Lat                   9892 non-null   float64\n",
      " 9   Lng                   9892 non-null   float64\n",
      " 10  Population            9892 non-null   float64\n",
      " 11  Area                  9892 non-null   object \n",
      " 12  Timezone              9892 non-null   object \n",
      " 13  Job                   9892 non-null   object \n",
      " 14  Children              9892 non-null   float64\n",
      " 15  Age                   9892 non-null   float64\n",
      " 16  Education             9892 non-null   object \n",
      " 17  Employment            9892 non-null   object \n",
      " 18  Income                9892 non-null   float64\n",
      " 19  Marital               9892 non-null   object \n",
      " 20  Gender                9892 non-null   object \n",
      " 21  Churn                 9892 non-null   object \n",
      " 22  Outage_sec_perweek    9892 non-null   float64\n",
      " 23  Email                 9892 non-null   float64\n",
      " 24  Contacts              9892 non-null   float64\n",
      " 25  Yearly_equip_failure  9892 non-null   float64\n",
      " 26  Techie                9892 non-null   object \n",
      " 27  Contract              9892 non-null   object \n",
      " 28  Port_modem            9892 non-null   object \n",
      " 29  Tablet                9892 non-null   object \n",
      " 30  InternetService       9892 non-null   object \n",
      " 31  Phone                 9892 non-null   object \n",
      " 32  Multiple              9892 non-null   object \n",
      " 33  OnlineSecurity        9892 non-null   object \n",
      " 34  OnlineBackup          9892 non-null   object \n",
      " 35  DeviceProtection      9892 non-null   object \n",
      " 36  TechSupport           9892 non-null   object \n",
      " 37  StreamingTV           9892 non-null   object \n",
      " 38  StreamingMovies       9892 non-null   object \n",
      " 39  PaperlessBilling      9892 non-null   object \n",
      " 40  PaymentMethod         9892 non-null   object \n",
      " 41  Tenure                9892 non-null   float64\n",
      " 42  MonthlyCharge         9892 non-null   float64\n",
      " 43  Bandwidth_GB_Year     9892 non-null   float64\n",
      " 44  Timely_Respd          9892 non-null   int64  \n",
      " 45  Timely_Fixes          9892 non-null   int64  \n",
      " 46  Timely_Replc          9892 non-null   int64  \n",
      " 47  Reliability           9892 non-null   int64  \n",
      " 48  Options               9892 non-null   int64  \n",
      " 49  Respect_Resp          9892 non-null   int64  \n",
      " 50  Courteous_Exch        9892 non-null   int64  \n",
      " 51  Evidence_ActListen    9892 non-null   int64  \n",
      " 52  Index                 9892 non-null   int64  \n",
      "dtypes: float64(13), int64(12), object(28)\n",
      "memory usage: 4.1+ MB\n"
     ]
    }
   ],
   "source": [
    "#re-expression of categorical data.\n",
    "churn.info()"
   ]
  },
  {
   "cell_type": "code",
   "execution_count": 54,
   "id": "e87a7ab2",
   "metadata": {},
   "outputs": [
    {
     "data": {
      "text/plain": [
       "array(['Widowed', 'Married', 'Separated', 'Never Married', 'Divorced'],\n",
       "      dtype=object)"
      ]
     },
     "execution_count": 54,
     "metadata": {},
     "output_type": "execute_result"
    }
   ],
   "source": [
    "churn.Marital.unique()"
   ]
  },
  {
   "cell_type": "code",
   "execution_count": 55,
   "id": "ddddf48a",
   "metadata": {},
   "outputs": [],
   "source": [
    "churn['Marital_Num'] = churn.Marital"
   ]
  },
  {
   "cell_type": "code",
   "execution_count": 56,
   "id": "5a65d599",
   "metadata": {},
   "outputs": [],
   "source": [
    "marital_dict = {'Marital_Num':{'Widowed': 1, 'Married': 2, 'Separated': 1, 'Never Married': 1, 'Divorced': 1}}"
   ]
  },
  {
   "cell_type": "code",
   "execution_count": 57,
   "id": "60768821",
   "metadata": {},
   "outputs": [],
   "source": [
    "churn.replace(marital_dict,inplace=True)"
   ]
  },
  {
   "cell_type": "code",
   "execution_count": 58,
   "id": "1204b613",
   "metadata": {},
   "outputs": [
    {
     "data": {
      "text/plain": [
       "array(['Fiber Optic', 'DSL', 'None'], dtype=object)"
      ]
     },
     "execution_count": 58,
     "metadata": {},
     "output_type": "execute_result"
    }
   ],
   "source": [
    "churn.InternetService.unique()"
   ]
  },
  {
   "cell_type": "code",
   "execution_count": 59,
   "id": "c4a3efa3",
   "metadata": {},
   "outputs": [],
   "source": [
    "churn['InternetService_Num'] = churn.InternetService"
   ]
  },
  {
   "cell_type": "code",
   "execution_count": 60,
   "id": "1c86b278",
   "metadata": {},
   "outputs": [],
   "source": [
    "intservc_dict = {'InternetService_Num':{'Fiber Optic':1, 'DSL':1, 'None':0}}"
   ]
  },
  {
   "cell_type": "code",
   "execution_count": 61,
   "id": "55f73bac",
   "metadata": {},
   "outputs": [],
   "source": [
    "churn.replace(intservc_dict,inplace=True)"
   ]
  },
  {
   "cell_type": "code",
   "execution_count": 62,
   "id": "eb7ca15d",
   "metadata": {},
   "outputs": [
    {
     "data": {
      "text/plain": [
       "array(['Yes', 'No'], dtype=object)"
      ]
     },
     "execution_count": 62,
     "metadata": {},
     "output_type": "execute_result"
    }
   ],
   "source": [
    "churn.Phone.unique()"
   ]
  },
  {
   "cell_type": "code",
   "execution_count": 63,
   "id": "e8edcbcc",
   "metadata": {},
   "outputs": [],
   "source": [
    "churn['Phone_Num'] = churn.Phone"
   ]
  },
  {
   "cell_type": "code",
   "execution_count": 64,
   "id": "d780c2a8",
   "metadata": {},
   "outputs": [],
   "source": [
    "phone_dict = {'Phone_Num':{'Yes': 1, 'No': 0}}"
   ]
  },
  {
   "cell_type": "code",
   "execution_count": 65,
   "id": "ebf2f0b5",
   "metadata": {},
   "outputs": [],
   "source": [
    "churn.replace(phone_dict,inplace=True)"
   ]
  },
  {
   "cell_type": "code",
   "execution_count": 66,
   "id": "5f58d48c",
   "metadata": {},
   "outputs": [
    {
     "data": {
      "text/plain": [
       "array(['Yes', 'No'], dtype=object)"
      ]
     },
     "execution_count": 66,
     "metadata": {},
     "output_type": "execute_result"
    }
   ],
   "source": [
    "churn.OnlineSecurity.unique()"
   ]
  },
  {
   "cell_type": "code",
   "execution_count": 67,
   "id": "a24294f1",
   "metadata": {},
   "outputs": [],
   "source": [
    "churn['OnlineSecurity_Num'] = churn.OnlineSecurity"
   ]
  },
  {
   "cell_type": "code",
   "execution_count": 68,
   "id": "4043850b",
   "metadata": {},
   "outputs": [],
   "source": [
    "onsec_dict = {'OnlineSecurity_Num':{'Yes': 1, 'No': 0}}"
   ]
  },
  {
   "cell_type": "code",
   "execution_count": 69,
   "id": "6bc2795d",
   "metadata": {},
   "outputs": [],
   "source": [
    "churn.replace(onsec_dict,inplace=True)"
   ]
  },
  {
   "cell_type": "code",
   "execution_count": 70,
   "id": "ea237103",
   "metadata": {},
   "outputs": [
    {
     "data": {
      "text/plain": [
       "array(['Yes', 'No'], dtype=object)"
      ]
     },
     "execution_count": 70,
     "metadata": {},
     "output_type": "execute_result"
    }
   ],
   "source": [
    "churn.OnlineBackup.unique()"
   ]
  },
  {
   "cell_type": "code",
   "execution_count": 71,
   "id": "6d1c065c",
   "metadata": {},
   "outputs": [],
   "source": [
    "churn['OnlineBackup_Num'] = churn.OnlineBackup"
   ]
  },
  {
   "cell_type": "code",
   "execution_count": 72,
   "id": "5d56bb9e",
   "metadata": {},
   "outputs": [],
   "source": [
    "onbk_dict = {'OnlineBackup_Num':{'Yes': 1, 'No': 0}}"
   ]
  },
  {
   "cell_type": "code",
   "execution_count": 73,
   "id": "c0c79539",
   "metadata": {},
   "outputs": [],
   "source": [
    "churn.replace(onbk_dict,inplace=True)"
   ]
  },
  {
   "cell_type": "code",
   "execution_count": 74,
   "id": "6690363d",
   "metadata": {},
   "outputs": [
    {
     "data": {
      "text/plain": [
       "array(['No', 'Yes'], dtype=object)"
      ]
     },
     "execution_count": 74,
     "metadata": {},
     "output_type": "execute_result"
    }
   ],
   "source": [
    "churn.DeviceProtection.unique()"
   ]
  },
  {
   "cell_type": "code",
   "execution_count": 75,
   "id": "770ba5fa",
   "metadata": {},
   "outputs": [],
   "source": [
    "churn['DeviceProtection_Num'] = churn.DeviceProtection"
   ]
  },
  {
   "cell_type": "code",
   "execution_count": 76,
   "id": "33c59e14",
   "metadata": {},
   "outputs": [],
   "source": [
    "dvpro_dict = {'DeviceProtection_Num':{'Yes': 1, 'No': 0}}"
   ]
  },
  {
   "cell_type": "code",
   "execution_count": 77,
   "id": "73ca6571",
   "metadata": {},
   "outputs": [],
   "source": [
    "churn.replace(dvpro_dict,inplace=True)"
   ]
  },
  {
   "cell_type": "code",
   "execution_count": 78,
   "id": "c69421c6",
   "metadata": {},
   "outputs": [
    {
     "data": {
      "text/plain": [
       "array(['No', 'Yes'], dtype=object)"
      ]
     },
     "execution_count": 78,
     "metadata": {},
     "output_type": "execute_result"
    }
   ],
   "source": [
    "churn.TechSupport.unique()"
   ]
  },
  {
   "cell_type": "code",
   "execution_count": 79,
   "id": "797ff763",
   "metadata": {},
   "outputs": [],
   "source": [
    "churn['TechSupport_Num'] = churn.TechSupport"
   ]
  },
  {
   "cell_type": "code",
   "execution_count": 80,
   "id": "15561fa2",
   "metadata": {},
   "outputs": [],
   "source": [
    "tech_dict = {'TechSupport_Num':{'Yes': 1, 'No': 0}}"
   ]
  },
  {
   "cell_type": "code",
   "execution_count": 81,
   "id": "78d60387",
   "metadata": {},
   "outputs": [],
   "source": [
    "churn.replace(tech_dict,inplace=True)"
   ]
  },
  {
   "cell_type": "code",
   "execution_count": 82,
   "id": "fe74415d",
   "metadata": {},
   "outputs": [
    {
     "name": "stdout",
     "output_type": "stream",
     "text": [
      "<class 'pandas.core.frame.DataFrame'>\n",
      "Int64Index: 9892 entries, 0 to 9999\n",
      "Data columns (total 60 columns):\n",
      " #   Column                Non-Null Count  Dtype  \n",
      "---  ------                --------------  -----  \n",
      " 0   Unnamed: 0            9892 non-null   int64  \n",
      " 1   CaseOrder             9892 non-null   int64  \n",
      " 2   Customer_id           9892 non-null   object \n",
      " 3   Interaction           9892 non-null   object \n",
      " 4   City                  9892 non-null   object \n",
      " 5   State                 9892 non-null   object \n",
      " 6   County                9892 non-null   object \n",
      " 7   Zip                   9892 non-null   int64  \n",
      " 8   Lat                   9892 non-null   float64\n",
      " 9   Lng                   9892 non-null   float64\n",
      " 10  Population            9892 non-null   float64\n",
      " 11  Area                  9892 non-null   object \n",
      " 12  Timezone              9892 non-null   object \n",
      " 13  Job                   9892 non-null   object \n",
      " 14  Children              9892 non-null   float64\n",
      " 15  Age                   9892 non-null   float64\n",
      " 16  Education             9892 non-null   object \n",
      " 17  Employment            9892 non-null   object \n",
      " 18  Income                9892 non-null   float64\n",
      " 19  Marital               9892 non-null   object \n",
      " 20  Gender                9892 non-null   object \n",
      " 21  Churn                 9892 non-null   object \n",
      " 22  Outage_sec_perweek    9892 non-null   float64\n",
      " 23  Email                 9892 non-null   float64\n",
      " 24  Contacts              9892 non-null   float64\n",
      " 25  Yearly_equip_failure  9892 non-null   float64\n",
      " 26  Techie                9892 non-null   object \n",
      " 27  Contract              9892 non-null   object \n",
      " 28  Port_modem            9892 non-null   object \n",
      " 29  Tablet                9892 non-null   object \n",
      " 30  InternetService       9892 non-null   object \n",
      " 31  Phone                 9892 non-null   object \n",
      " 32  Multiple              9892 non-null   object \n",
      " 33  OnlineSecurity        9892 non-null   object \n",
      " 34  OnlineBackup          9892 non-null   object \n",
      " 35  DeviceProtection      9892 non-null   object \n",
      " 36  TechSupport           9892 non-null   object \n",
      " 37  StreamingTV           9892 non-null   object \n",
      " 38  StreamingMovies       9892 non-null   object \n",
      " 39  PaperlessBilling      9892 non-null   object \n",
      " 40  PaymentMethod         9892 non-null   object \n",
      " 41  Tenure                9892 non-null   float64\n",
      " 42  MonthlyCharge         9892 non-null   float64\n",
      " 43  Bandwidth_GB_Year     9892 non-null   float64\n",
      " 44  Timely_Respd          9892 non-null   int64  \n",
      " 45  Timely_Fixes          9892 non-null   int64  \n",
      " 46  Timely_Replc          9892 non-null   int64  \n",
      " 47  Reliability           9892 non-null   int64  \n",
      " 48  Options               9892 non-null   int64  \n",
      " 49  Respect_Resp          9892 non-null   int64  \n",
      " 50  Courteous_Exch        9892 non-null   int64  \n",
      " 51  Evidence_ActListen    9892 non-null   int64  \n",
      " 52  Index                 9892 non-null   int64  \n",
      " 53  Marital_Num           9892 non-null   int64  \n",
      " 54  InternetService_Num   9892 non-null   int64  \n",
      " 55  Phone_Num             9892 non-null   int64  \n",
      " 56  OnlineSecurity_Num    9892 non-null   int64  \n",
      " 57  OnlineBackup_Num      9892 non-null   int64  \n",
      " 58  DeviceProtection_Num  9892 non-null   int64  \n",
      " 59  TechSupport_Num       9892 non-null   int64  \n",
      "dtypes: float64(13), int64(19), object(28)\n",
      "memory usage: 4.6+ MB\n"
     ]
    }
   ],
   "source": [
    "churn.info()"
   ]
  },
  {
   "cell_type": "code",
   "execution_count": 83,
   "id": "4ebdd12d",
   "metadata": {},
   "outputs": [],
   "source": [
    "# define variables for the pca\n",
    "churn_df = churn[['Population', 'Income', 'MonthlyCharge', 'Children', 'Age', \n",
    "                  'Contacts', 'Email', 'Yearly_equip_failure','Outage_sec_perweek',\n",
    "                  'Bandwidth_GB_Year', 'Tenure']]"
   ]
  },
  {
   "cell_type": "code",
   "execution_count": 84,
   "id": "95e778e6",
   "metadata": {},
   "outputs": [
    {
     "data": {
      "text/html": [
       "<div>\n",
       "<style scoped>\n",
       "    .dataframe tbody tr th:only-of-type {\n",
       "        vertical-align: middle;\n",
       "    }\n",
       "\n",
       "    .dataframe tbody tr th {\n",
       "        vertical-align: top;\n",
       "    }\n",
       "\n",
       "    .dataframe thead th {\n",
       "        text-align: right;\n",
       "    }\n",
       "</style>\n",
       "<table border=\"1\" class=\"dataframe\">\n",
       "  <thead>\n",
       "    <tr style=\"text-align: right;\">\n",
       "      <th></th>\n",
       "      <th>Population</th>\n",
       "      <th>Income</th>\n",
       "      <th>MonthlyCharge</th>\n",
       "      <th>Children</th>\n",
       "      <th>Age</th>\n",
       "      <th>Contacts</th>\n",
       "      <th>Email</th>\n",
       "      <th>Yearly_equip_failure</th>\n",
       "      <th>Outage_sec_perweek</th>\n",
       "      <th>Bandwidth_GB_Year</th>\n",
       "      <th>Tenure</th>\n",
       "    </tr>\n",
       "  </thead>\n",
       "  <tbody>\n",
       "    <tr>\n",
       "      <th>0</th>\n",
       "      <td>38.0</td>\n",
       "      <td>28561.99</td>\n",
       "      <td>171.449762</td>\n",
       "      <td>1.0</td>\n",
       "      <td>68.0</td>\n",
       "      <td>0.0</td>\n",
       "      <td>10.0</td>\n",
       "      <td>1.0</td>\n",
       "      <td>6.972566</td>\n",
       "      <td>904.536110</td>\n",
       "      <td>6.795513</td>\n",
       "    </tr>\n",
       "    <tr>\n",
       "      <th>1</th>\n",
       "      <td>10446.0</td>\n",
       "      <td>21704.77</td>\n",
       "      <td>242.948015</td>\n",
       "      <td>1.0</td>\n",
       "      <td>27.0</td>\n",
       "      <td>0.0</td>\n",
       "      <td>12.0</td>\n",
       "      <td>1.0</td>\n",
       "      <td>12.014541</td>\n",
       "      <td>800.982766</td>\n",
       "      <td>1.156681</td>\n",
       "    </tr>\n",
       "    <tr>\n",
       "      <th>2</th>\n",
       "      <td>3735.0</td>\n",
       "      <td>33168.88</td>\n",
       "      <td>159.440398</td>\n",
       "      <td>4.0</td>\n",
       "      <td>50.0</td>\n",
       "      <td>0.0</td>\n",
       "      <td>9.0</td>\n",
       "      <td>1.0</td>\n",
       "      <td>10.245616</td>\n",
       "      <td>2054.706961</td>\n",
       "      <td>15.754144</td>\n",
       "    </tr>\n",
       "    <tr>\n",
       "      <th>3</th>\n",
       "      <td>13863.0</td>\n",
       "      <td>18925.23</td>\n",
       "      <td>120.249493</td>\n",
       "      <td>1.0</td>\n",
       "      <td>48.0</td>\n",
       "      <td>2.0</td>\n",
       "      <td>15.0</td>\n",
       "      <td>0.0</td>\n",
       "      <td>15.206193</td>\n",
       "      <td>2164.579412</td>\n",
       "      <td>17.087227</td>\n",
       "    </tr>\n",
       "    <tr>\n",
       "      <th>4</th>\n",
       "      <td>11352.0</td>\n",
       "      <td>40074.19</td>\n",
       "      <td>150.761216</td>\n",
       "      <td>0.0</td>\n",
       "      <td>83.0</td>\n",
       "      <td>2.0</td>\n",
       "      <td>16.0</td>\n",
       "      <td>1.0</td>\n",
       "      <td>8.960316</td>\n",
       "      <td>271.493436</td>\n",
       "      <td>1.670972</td>\n",
       "    </tr>\n",
       "  </tbody>\n",
       "</table>\n",
       "</div>"
      ],
      "text/plain": [
       "   Population    Income  MonthlyCharge  Children   Age  Contacts  Email  \\\n",
       "0        38.0  28561.99     171.449762       1.0  68.0       0.0   10.0   \n",
       "1     10446.0  21704.77     242.948015       1.0  27.0       0.0   12.0   \n",
       "2      3735.0  33168.88     159.440398       4.0  50.0       0.0    9.0   \n",
       "3     13863.0  18925.23     120.249493       1.0  48.0       2.0   15.0   \n",
       "4     11352.0  40074.19     150.761216       0.0  83.0       2.0   16.0   \n",
       "\n",
       "   Yearly_equip_failure  Outage_sec_perweek  Bandwidth_GB_Year     Tenure  \n",
       "0                   1.0            6.972566         904.536110   6.795513  \n",
       "1                   1.0           12.014541         800.982766   1.156681  \n",
       "2                   1.0           10.245616        2054.706961  15.754144  \n",
       "3                   0.0           15.206193        2164.579412  17.087227  \n",
       "4                   1.0            8.960316         271.493436   1.670972  "
      ]
     },
     "execution_count": 84,
     "metadata": {},
     "output_type": "execute_result"
    }
   ],
   "source": [
    "churn_df.head()"
   ]
  },
  {
   "cell_type": "code",
   "execution_count": 85,
   "id": "d78558f7",
   "metadata": {},
   "outputs": [],
   "source": [
    "churn_df_norm= (churn_df - churn_df.mean())/churn_df.std()"
   ]
  },
  {
   "cell_type": "code",
   "execution_count": 86,
   "id": "db5fc8d8",
   "metadata": {},
   "outputs": [],
   "source": [
    "pca = PCA(n_components=churn_df.shape[1])"
   ]
  },
  {
   "cell_type": "code",
   "execution_count": 87,
   "id": "6e1b1658",
   "metadata": {},
   "outputs": [
    {
     "data": {
      "text/plain": [
       "PCA(n_components=11)"
      ]
     },
     "execution_count": 87,
     "metadata": {},
     "output_type": "execute_result"
    }
   ],
   "source": [
    "pca.fit(churn_df_norm)"
   ]
  },
  {
   "cell_type": "code",
   "execution_count": 88,
   "id": "2db4521e",
   "metadata": {},
   "outputs": [],
   "source": [
    "churn_pca = pd.DataFrame(pca.transform(churn_df_norm), \n",
    "                         columns=['PC1', 'PC2', 'PC3', 'PC4', 'PC5', 'PC6', 'PC7',\n",
    "                                  'PC8', 'PC9','PC10', 'PC11'])"
   ]
  },
  {
   "cell_type": "code",
   "execution_count": 89,
   "id": "681d4e0f",
   "metadata": {},
   "outputs": [
    {
     "name": "stdout",
     "output_type": "stream",
     "text": [
      "[0.17240879 0.1001559  0.09583426 0.09254364 0.09119895 0.09017061\n",
      " 0.09003722 0.08873117 0.08791939 0.08158073 0.00941934]\n"
     ]
    }
   ],
   "source": [
    "print(pca.explained_variance_ratio_)"
   ]
  },
  {
   "cell_type": "code",
   "execution_count": 90,
   "id": "90426827",
   "metadata": {},
   "outputs": [
    {
     "name": "stdout",
     "output_type": "stream",
     "text": [
      "[0.17240879 0.27256469 0.36839895 0.46094259 0.55214154 0.64231215\n",
      " 0.73234937 0.82108054 0.90899993 0.99058066 1.        ]\n"
     ]
    }
   ],
   "source": [
    "print(pca.explained_variance_ratio_.cumsum())"
   ]
  },
  {
   "cell_type": "code",
   "execution_count": 91,
   "id": "3055448a",
   "metadata": {},
   "outputs": [
    {
     "data": {
      "image/png": "[encoded data removed]",
      "text/plain": [
       "<Figure size 432x288 with 1 Axes>"
      ]
     },
     "metadata": {
      "needs_background": "light"
     },
     "output_type": "display_data"
    }
   ],
   "source": [
    "plt.plot(pca.explained_variance_ratio_)\n",
    "plt.xlabel('Number of components')\n",
    "plt.ylabel('Explained variance')\n",
    "plt.show()"
   ]
  },
  {
   "cell_type": "code",
   "execution_count": 92,
   "id": "cd9a0691",
   "metadata": {},
   "outputs": [],
   "source": [
    "cov_matrix = np.dot(churn_df_norm.T, churn_df_norm)/churn_pca.shape[0]\n",
    "eigenvalues = [np.dot(eigenvector.T, np.dot(cov_matrix, eigenvector)) for eigenvector in pca.components_]"
   ]
  },
  {
   "cell_type": "code",
   "execution_count": 93,
   "id": "0e66290a",
   "metadata": {},
   "outputs": [
    {
     "data": {
      "image/png": "[encoded data removed]",
      "text/plain": [
       "<Figure size 432x288 with 1 Axes>"
      ]
     },
     "metadata": {
      "needs_background": "light"
     },
     "output_type": "display_data"
    }
   ],
   "source": [
    "plt.plot(eigenvalues)\n",
    "plt.xlabel('Number of components')\n",
    "plt.ylabel('eigenvalues')\n",
    "plt.axhline(y=1, color=\"purple\")\n",
    "plt.show()"
   ]
  },
  {
   "cell_type": "code",
   "execution_count": 94,
   "id": "75619d94",
   "metadata": {},
   "outputs": [
    {
     "data": {
      "text/html": [
       "<div>\n",
       "<style scoped>\n",
       "    .dataframe tbody tr th:only-of-type {\n",
       "        vertical-align: middle;\n",
       "    }\n",
       "\n",
       "    .dataframe tbody tr th {\n",
       "        vertical-align: top;\n",
       "    }\n",
       "\n",
       "    .dataframe thead th {\n",
       "        text-align: right;\n",
       "    }\n",
       "</style>\n",
       "<table border=\"1\" class=\"dataframe\">\n",
       "  <thead>\n",
       "    <tr style=\"text-align: right;\">\n",
       "      <th></th>\n",
       "      <th>PC1</th>\n",
       "      <th>PC2</th>\n",
       "      <th>PC3</th>\n",
       "      <th>PC4</th>\n",
       "      <th>PC5</th>\n",
       "      <th>PC6</th>\n",
       "      <th>PC7</th>\n",
       "      <th>PC8</th>\n",
       "      <th>PC9</th>\n",
       "      <th>PC10</th>\n",
       "      <th>PC11</th>\n",
       "    </tr>\n",
       "  </thead>\n",
       "  <tbody>\n",
       "    <tr>\n",
       "      <th>Population</th>\n",
       "      <td>-0.009518</td>\n",
       "      <td>-0.074293</td>\n",
       "      <td>-0.417858</td>\n",
       "      <td>-0.316784</td>\n",
       "      <td>0.051284</td>\n",
       "      <td>0.290441</td>\n",
       "      <td>0.620591</td>\n",
       "      <td>-0.261549</td>\n",
       "      <td>0.422752</td>\n",
       "      <td>-0.013608</td>\n",
       "      <td>0.000863</td>\n",
       "    </tr>\n",
       "    <tr>\n",
       "      <th>Income</th>\n",
       "      <td>0.001668</td>\n",
       "      <td>-0.085197</td>\n",
       "      <td>0.201347</td>\n",
       "      <td>0.206349</td>\n",
       "      <td>-0.791356</td>\n",
       "      <td>0.270167</td>\n",
       "      <td>0.241103</td>\n",
       "      <td>-0.273822</td>\n",
       "      <td>-0.272476</td>\n",
       "      <td>0.055054</td>\n",
       "      <td>0.000417</td>\n",
       "    </tr>\n",
       "    <tr>\n",
       "      <th>MonthlyCharge</th>\n",
       "      <td>0.046539</td>\n",
       "      <td>0.692582</td>\n",
       "      <td>-0.070491</td>\n",
       "      <td>0.040812</td>\n",
       "      <td>-0.061298</td>\n",
       "      <td>-0.032134</td>\n",
       "      <td>-0.051360</td>\n",
       "      <td>-0.128883</td>\n",
       "      <td>0.130955</td>\n",
       "      <td>0.684174</td>\n",
       "      <td>-0.047410</td>\n",
       "    </tr>\n",
       "    <tr>\n",
       "      <th>Children</th>\n",
       "      <td>-0.002177</td>\n",
       "      <td>0.045458</td>\n",
       "      <td>0.496351</td>\n",
       "      <td>-0.190809</td>\n",
       "      <td>-0.096682</td>\n",
       "      <td>0.542732</td>\n",
       "      <td>-0.191342</td>\n",
       "      <td>0.357609</td>\n",
       "      <td>0.496278</td>\n",
       "      <td>-0.009835</td>\n",
       "      <td>-0.019152</td>\n",
       "    </tr>\n",
       "    <tr>\n",
       "      <th>Age</th>\n",
       "      <td>-0.013039</td>\n",
       "      <td>-0.044869</td>\n",
       "      <td>-0.269786</td>\n",
       "      <td>0.593133</td>\n",
       "      <td>0.147840</td>\n",
       "      <td>0.389541</td>\n",
       "      <td>-0.409013</td>\n",
       "      <td>-0.399424</td>\n",
       "      <td>0.232993</td>\n",
       "      <td>-0.134412</td>\n",
       "      <td>0.021053</td>\n",
       "    </tr>\n",
       "    <tr>\n",
       "      <th>Contacts</th>\n",
       "      <td>0.005780</td>\n",
       "      <td>0.015477</td>\n",
       "      <td>-0.429081</td>\n",
       "      <td>0.440293</td>\n",
       "      <td>-0.184172</td>\n",
       "      <td>0.054764</td>\n",
       "      <td>0.202954</td>\n",
       "      <td>0.734281</td>\n",
       "      <td>0.051131</td>\n",
       "      <td>0.043079</td>\n",
       "      <td>-0.003312</td>\n",
       "    </tr>\n",
       "    <tr>\n",
       "      <th>Email</th>\n",
       "      <td>-0.021479</td>\n",
       "      <td>0.058592</td>\n",
       "      <td>-0.398242</td>\n",
       "      <td>-0.434689</td>\n",
       "      <td>0.003295</td>\n",
       "      <td>0.506976</td>\n",
       "      <td>-0.313883</td>\n",
       "      <td>0.110481</td>\n",
       "      <td>-0.527536</td>\n",
       "      <td>0.049717</td>\n",
       "      <td>0.004900</td>\n",
       "    </tr>\n",
       "    <tr>\n",
       "      <th>Yearly_equip_failure</th>\n",
       "      <td>0.013233</td>\n",
       "      <td>0.067401</td>\n",
       "      <td>0.342884</td>\n",
       "      <td>0.289990</td>\n",
       "      <td>0.546126</td>\n",
       "      <td>0.367419</td>\n",
       "      <td>0.445215</td>\n",
       "      <td>0.030538</td>\n",
       "      <td>-0.380900</td>\n",
       "      <td>0.127000</td>\n",
       "      <td>-0.002411</td>\n",
       "    </tr>\n",
       "    <tr>\n",
       "      <th>Outage_sec_perweek</th>\n",
       "      <td>0.020645</td>\n",
       "      <td>0.701071</td>\n",
       "      <td>0.008448</td>\n",
       "      <td>-0.000141</td>\n",
       "      <td>-0.062654</td>\n",
       "      <td>0.007315</td>\n",
       "      <td>0.109714</td>\n",
       "      <td>-0.011600</td>\n",
       "      <td>-0.056237</td>\n",
       "      <td>-0.699041</td>\n",
       "      <td>-0.005392</td>\n",
       "    </tr>\n",
       "    <tr>\n",
       "      <th>Bandwidth_GB_Year</th>\n",
       "      <td>0.706868</td>\n",
       "      <td>-0.006392</td>\n",
       "      <td>-0.000521</td>\n",
       "      <td>-0.016545</td>\n",
       "      <td>-0.003997</td>\n",
       "      <td>0.010300</td>\n",
       "      <td>-0.005785</td>\n",
       "      <td>0.006286</td>\n",
       "      <td>0.006482</td>\n",
       "      <td>0.007942</td>\n",
       "      <td>0.706911</td>\n",
       "    </tr>\n",
       "    <tr>\n",
       "      <th>Tenure</th>\n",
       "      <td>0.704846</td>\n",
       "      <td>-0.060951</td>\n",
       "      <td>-0.019702</td>\n",
       "      <td>-0.002784</td>\n",
       "      <td>0.006251</td>\n",
       "      <td>0.011846</td>\n",
       "      <td>-0.013957</td>\n",
       "      <td>-0.009851</td>\n",
       "      <td>-0.010648</td>\n",
       "      <td>-0.036717</td>\n",
       "      <td>-0.705088</td>\n",
       "    </tr>\n",
       "  </tbody>\n",
       "</table>\n",
       "</div>"
      ],
      "text/plain": [
       "                           PC1       PC2       PC3       PC4       PC5  \\\n",
       "Population           -0.009518 -0.074293 -0.417858 -0.316784  0.051284   \n",
       "Income                0.001668 -0.085197  0.201347  0.206349 -0.791356   \n",
       "MonthlyCharge         0.046539  0.692582 -0.070491  0.040812 -0.061298   \n",
       "Children             -0.002177  0.045458  0.496351 -0.190809 -0.096682   \n",
       "Age                  -0.013039 -0.044869 -0.269786  0.593133  0.147840   \n",
       "Contacts              0.005780  0.015477 -0.429081  0.440293 -0.184172   \n",
       "Email                -0.021479  0.058592 -0.398242 -0.434689  0.003295   \n",
       "Yearly_equip_failure  0.013233  0.067401  0.342884  0.289990  0.546126   \n",
       "Outage_sec_perweek    0.020645  0.701071  0.008448 -0.000141 -0.062654   \n",
       "Bandwidth_GB_Year     0.706868 -0.006392 -0.000521 -0.016545 -0.003997   \n",
       "Tenure                0.704846 -0.060951 -0.019702 -0.002784  0.006251   \n",
       "\n",
       "                           PC6       PC7       PC8       PC9      PC10  \\\n",
       "Population            0.290441  0.620591 -0.261549  0.422752 -0.013608   \n",
       "Income                0.270167  0.241103 -0.273822 -0.272476  0.055054   \n",
       "MonthlyCharge        -0.032134 -0.051360 -0.128883  0.130955  0.684174   \n",
       "Children              0.542732 -0.191342  0.357609  0.496278 -0.009835   \n",
       "Age                   0.389541 -0.409013 -0.399424  0.232993 -0.134412   \n",
       "Contacts              0.054764  0.202954  0.734281  0.051131  0.043079   \n",
       "Email                 0.506976 -0.313883  0.110481 -0.527536  0.049717   \n",
       "Yearly_equip_failure  0.367419  0.445215  0.030538 -0.380900  0.127000   \n",
       "Outage_sec_perweek    0.007315  0.109714 -0.011600 -0.056237 -0.699041   \n",
       "Bandwidth_GB_Year     0.010300 -0.005785  0.006286  0.006482  0.007942   \n",
       "Tenure                0.011846 -0.013957 -0.009851 -0.010648 -0.036717   \n",
       "\n",
       "                          PC11  \n",
       "Population            0.000863  \n",
       "Income                0.000417  \n",
       "MonthlyCharge        -0.047410  \n",
       "Children             -0.019152  \n",
       "Age                   0.021053  \n",
       "Contacts             -0.003312  \n",
       "Email                 0.004900  \n",
       "Yearly_equip_failure -0.002411  \n",
       "Outage_sec_perweek   -0.005392  \n",
       "Bandwidth_GB_Year     0.706911  \n",
       "Tenure               -0.705088  "
      ]
     },
     "execution_count": 94,
     "metadata": {},
     "output_type": "execute_result"
    }
   ],
   "source": [
    "loadings = pd.DataFrame(pca.components_.T,\n",
    "columns=['PC1', 'PC2', 'PC3', 'PC4', 'PC5', 'PC6', 'PC7',\n",
    "         'PC8', 'PC9','PC10', 'PC11'],\n",
    "index=churn_df.columns)\n",
    "loadings"
   ]
  },
  {
   "cell_type": "code",
   "execution_count": 95,
   "id": "526ace5f",
   "metadata": {},
   "outputs": [],
   "source": [
    "churn.to_csv(r'TelecomDC_clean.csv')"
   ]
  },
  {
   "cell_type": "code",
   "execution_count": null,
   "id": "81703351",
   "metadata": {},
   "outputs": [],
   "source": []
  }
 ],
 "metadata": {
  "kernelspec": {
   "display_name": "Python 3 (ipykernel)",
   "language": "python",
   "name": "python3"
  },
  "language_info": {
   "codemirror_mode": {
    "name": "ipython",
    "version": 3
   },
   "file_extension": ".py",
   "mimetype": "text/x-python",
   "name": "python",
   "nbconvert_exporter": "python",
   "pygments_lexer": "ipython3",
   "version": "3.11.4"
  }
 },
 "nbformat": 4,
 "nbformat_minor": 5
}
